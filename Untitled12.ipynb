{
  "nbformat": 4,
  "nbformat_minor": 0,
  "metadata": {
    "colab": {
      "provenance": [],
      "authorship_tag": "ABX9TyM7cxRyBJObZz0b7BXhRVe8",
      "include_colab_link": true
    },
    "kernelspec": {
      "name": "python3",
      "display_name": "Python 3"
    },
    "language_info": {
      "name": "python"
    }
  },
  "cells": [
    {
      "cell_type": "markdown",
      "metadata": {
        "id": "view-in-github",
        "colab_type": "text"
      },
      "source": [
        "<a href=\"https://colab.research.google.com/github/khcolin/py-dl1/blob/main/Untitled12.ipynb\" target=\"_parent\"><img src=\"https://colab.research.google.com/assets/colab-badge.svg\" alt=\"Open In Colab\"/></a>"
      ]
    },
    {
      "cell_type": "code",
      "execution_count": null,
      "metadata": {
        "id": "9rtM-GlTouCk"
      },
      "outputs": [],
      "source": [
        "#12-1.\n",
        "from sklearn.tree import DecisionTreeClassifier\n",
        "\n",
        "dt = DecisionTreeClassifier(min_impurity_decrease=0.001, random_state=42)\n",
        "dt.fit(train_input, train_target)\n",
        "\n",
        "print(dt.score(train_input, train_target))\n",
        "print(dt.score(test_input, test_target))\n"
      ]
    },
    {
      "cell_type": "code",
      "source": [
        "#12-2.\n",
        "gs = RandomizedSearchCV(DecisionTreeClassifier(splitter = 'random', random_state=42), params,\n",
        "                        n_iter=100, n_jobs=-1, random_state=42)\n",
        "gs.fit( train_input, train_target )\n",
        "print( gs.best_params_  )\n",
        "print(np.max(gs.cv_results_['mean_test_score']))\n",
        "\n",
        "dt = gs.best_estimator_\n",
        "print(dt.score(test_input, test_target))"
      ],
      "metadata": {
        "id": "htsvNfCjpBAU"
      },
      "execution_count": null,
      "outputs": []
    },
    {
      "cell_type": "code",
      "source": [
        "#14-1.\n",
        "# 평균 이미지와 각 이미지의 절댓값 차이 계산\n",
        "abs_diff = np.abs(fruits - fruits_mean)  # 각 데이터와 평균의 차이\n",
        "abs_mean = np.mean(abs_diff, axis=(1, 2))  # 각 이미지별 평균 차이값\n",
        "\n",
        "# 평균에 가장 가까운 100개 이미지 인덱스 선택\n",
        "banana_index = np.argsort(abs_mean)[:100]\n",
        "\n",
        "# 10x10 격자 이미지 출력\n",
        "fig, axs = plt.subplots(10, 10, figsize=(10,10))\n",
        "for i in range(10):  # 0부터 9까지\n",
        "    for j in range(10):  # 0부터 9까지\n",
        "        axs[i, j].imshow(fruits[banana_index[10*i+j]], cmap='gray_r')\n",
        "        axs[i, j].axis('off')\n",
        "plt.show()\n"
      ],
      "metadata": {
        "id": "c_9soS8ZpBGw"
      },
      "execution_count": null,
      "outputs": []
    },
    {
      "cell_type": "code",
      "source": [
        "#14-2.\n",
        "from sklearn.datasets import load_digits\n",
        "digits = load_digits().data\n",
        "target = load_digits().target\n",
        "target.shape\n",
        "digits.shape\n",
        "import numpy as np\n",
        "import matplotlib.pyplot as plt\n",
        "plt.gray()\n",
        "plt.imshow(digits[0].reshape(8,8), cmap='gray_r')\n",
        "plt.show()"
      ],
      "metadata": {
        "id": "O_0CTTMrpgQd"
      },
      "execution_count": null,
      "outputs": []
    },
    {
      "cell_type": "code",
      "source": [
        "#14-3.\n",
        "from sklearn.datasets import load_digits\n",
        "from sklearn.cluster import KMeans\n",
        "import numpy as np\n",
        "\n",
        "# 데이터 로드\n",
        "digits = load_digits().data\n",
        "target = load_digits().target\n",
        "\n",
        "# KMeans 클러스터링 (10개의 군집)\n",
        "km = KMeans(n_clusters=10, random_state=42)\n",
        "km.fit(digits)\n",
        "\n",
        "# 클러스터 레이블 확인\n",
        "print(km.labels_)\n",
        "print(np.unique(km.labels_, return_counts=True))\n",
        "\n",
        "# 클러스터 9번에 속한 데이터 시각화\n",
        "draw_fruits(digits[km.labels_ == 9].reshape(-1, 8, 8))  # 8x8 이미지로 복원\n"
      ],
      "metadata": {
        "id": "3Kne0Nwnpmnv"
      },
      "execution_count": null,
      "outputs": []
    },
    {
      "cell_type": "code",
      "source": [
        "#14-4.\n",
        "from keras.datasets import mnist\n",
        "from sklearn.preprocessing import StandardScaler\n",
        "from sklearn.decomposition import PCA\n",
        "from sklearn.cluster import KMeans\n",
        "import numpy as np\n",
        "\n",
        "# 1. 데이터 로드\n",
        "(X_train, y_train), (X_test, y_test) = mnist.load_data()\n",
        "\n",
        "print(\"X_train shape\", X_train.shape)\n",
        "print(\"y_train shape\", y_train.shape)\n",
        "print(\"X_test shape\", X_test.shape)\n",
        "print(\"y_test shape\", y_test.shape)\n",
        "\n",
        "# 2. Reshape (28x28 → 784)\n",
        "X_train = X_train.reshape(60000, 784)\n",
        "X_test = X_test.reshape(10000, 784)\n",
        "\n",
        "# 3. float32로 변환\n",
        "X_train = X_train.astype('float32')\n",
        "X_test = X_test.astype('float32')\n",
        "\n",
        "# 4. 표준화\n",
        "ss = StandardScaler()\n",
        "X_train = ss.fit_transform(X_train)\n",
        "X_test = ss.transform(X_test)\n",
        "\n",
        "# 5. PCA - 분산 90% 보존\n",
        "pca = PCA(n_components=0.90)\n",
        "print(f'Total number of components used after PCA : {pca.n_components_}')\n",
        "\n",
        "# 6. 차원 축소\n",
        "train_img = pca.transform(X_train)\n",
        "test_img = pca.transform(X_test)\n",
        "\n",
        "print(f'train_img shape : {train_img.shape}')\n",
        "print(f'test_img shape : {test_img.shape}')\n",
        "\n",
        "# 7. KMeans 클러스터링\n",
        "km = KMeans(n_clusters=10, random_state=42)\n",
        "km.fit(train_img)\n"
      ],
      "metadata": {
        "id": "FkGGcLZkp9b5"
      },
      "execution_count": null,
      "outputs": []
    }
  ]
}