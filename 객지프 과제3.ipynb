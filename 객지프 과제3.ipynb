{
  "nbformat": 4,
  "nbformat_minor": 0,
  "metadata": {
    "colab": {
      "provenance": [],
      "authorship_tag": "ABX9TyNigl0z2Cm0d1qNcGCQ0zHD",
      "include_colab_link": true
    },
    "kernelspec": {
      "name": "python3",
      "display_name": "Python 3"
    },
    "language_info": {
      "name": "python"
    }
  },
  "cells": [
    {
      "cell_type": "markdown",
      "metadata": {
        "id": "view-in-github",
        "colab_type": "text"
      },
      "source": [
        "<a href=\"https://colab.research.google.com/github/khcolin/py-dl1/blob/main/%EA%B0%9D%EC%A7%80%ED%94%84%20%EA%B3%BC%EC%A0%9C3.ipynb\" target=\"_parent\"><img src=\"https://colab.research.google.com/assets/colab-badge.svg\" alt=\"Open In Colab\"/></a>"
      ]
    },
    {
      "cell_type": "code",
      "execution_count": 2,
      "metadata": {
        "colab": {
          "base_uri": "https://localhost:8080/"
        },
        "id": "EKPO_NPcIThc",
        "outputId": "b8305c0f-5b75-4f18-93c7-4a10062f2ee5"
      },
      "outputs": [
        {
          "output_type": "stream",
          "name": "stdout",
          "text": [
            "25+78=100\n",
            "False\n"
          ]
        }
      ],
      "source": [
        "#lab: 산술 퀴즈 프로그램\n",
        "a=input(\"25+78=\")\n",
        "if int(a)==103:\n",
        "  print(\"True\")\n",
        "else:\n",
        "  print(\"False\")"
      ]
    },
    {
      "cell_type": "code",
      "source": [
        "#lab: 산술 퀴즈 프로그램\n",
        "a=input(\"정수를 입력하세요.\")\n",
        "if int(a)%2==0:\n",
        "  print(\"짝수입니다.\")\n",
        "else:\n",
        "  print(\"홀수입니다.\")"
      ],
      "metadata": {
        "colab": {
          "base_uri": "https://localhost:8080/"
        },
        "id": "TrHi3c77JCv5",
        "outputId": "ef1d72de-1029-46f0-989c-c6657642bd30"
      },
      "execution_count": 4,
      "outputs": [
        {
          "output_type": "stream",
          "name": "stdout",
          "text": [
            "정수를 입력하세요.1\n",
            "홀수입니다.\n"
          ]
        }
      ]
    },
    {
      "cell_type": "code",
      "source": [
        "#lab:세일가격 계산\n",
        "a=input(\"정가를 입력하세요.\")\n",
        "if int(a)>=100:\n",
        "  print(\"10층에서 사은품을 받아가세요.\")\n",
        "  print(f\"할인된 가격={int(a)*85/100}\")\n",
        "else:\n",
        "  print(f\"할인된 가격:{int(a)*9/10}\")"
      ],
      "metadata": {
        "colab": {
          "base_uri": "https://localhost:8080/"
        },
        "id": "X2WhtJp8JhQA",
        "outputId": "13b92a9a-9bbe-4232-ab92-f9b0356f4c44"
      },
      "execution_count": 7,
      "outputs": [
        {
          "output_type": "stream",
          "name": "stdout",
          "text": [
            "정가를 입력하세요.192\n",
            "10층에서 사은품을 받아가세요.\n",
            "할인된 가격=163.2\n"
          ]
        }
      ]
    },
    {
      "cell_type": "code",
      "source": [
        "#lab:물의 상태 출력하기\n",
        "a=input(\"온도를 입력하시오.\")\n",
        "b=int(a)\n",
        "if b>=100:\n",
        "  print(\"물의 상태는 기체입니다.\")\n",
        "elif b>=0:\n",
        "  print(\"물의 상태는 액체입니다.\")\n",
        "else:\n",
        "  print(\"물의 상태는 고체입니다.\")\n"
      ],
      "metadata": {
        "colab": {
          "base_uri": "https://localhost:8080/"
        },
        "id": "xN81L0gNKnHm",
        "outputId": "cb869315-49d5-463b-bceb-31ab499738a7"
      },
      "execution_count": 16,
      "outputs": [
        {
          "output_type": "stream",
          "name": "stdout",
          "text": [
            "온도를 입력하시오.121\n",
            "물의 상태는 기체입니다.\n"
          ]
        }
      ]
    },
    {
      "cell_type": "code",
      "source": [
        "#lab: 동전던지기 게임\\\n",
        "import random\n",
        "print(\"동전 던지기 게임을 시작합니다.\")\n",
        "coin = random.choice([\"앞면\", \"뒷면\"])\n",
        "if coin==\"앞면\":\n",
        "  print(\"앞면입니다.\")\n",
        "else:\n",
        "  print(\"뒷면입니다.\")\n",
        "  print(\"게임이 종료되었습니다.\")\n",
        "\n"
      ],
      "metadata": {
        "colab": {
          "base_uri": "https://localhost:8080/"
        },
        "id": "utD7ovUCLnVx",
        "outputId": "d6b43467-e108-4adf-fd2d-8849f98bf059"
      },
      "execution_count": 27,
      "outputs": [
        {
          "output_type": "stream",
          "name": "stdout",
          "text": [
            "동전 던지기 게임을 시작합니다.\n",
            "뒷면입니다\n",
            "게임이 종료되었습니다.\n"
          ]
        }
      ]
    },
    {
      "cell_type": "code",
      "source": [
        "#lab:리히터 규모\n",
        "a=input(\"리히터 규모를 입력하시오.\")\n",
        "b=float(a)\n",
        "if b<2.0:\n",
        "  print(\"지진계에 의해서만 탐지 가능합니다.\")\n",
        "elif 2.0<=b<=3.9:\n",
        "  print(\"물건들이 흔들리거나 떨어집니다.\")\n",
        "elif 4.0<=b<=6.9:\n",
        "  print(\"빈약한 건물에 큰 피해가 있습니다.\")\n",
        "elif 7.0<=b<=7.9:\n",
        "  print(\"a지표면에 균열이 발생합니다.\")\n",
        "else:\n",
        "  print(\"대부분의 구조물이 파괴됩니다.\")"
      ],
      "metadata": {
        "colab": {
          "base_uri": "https://localhost:8080/"
        },
        "id": "NbrzwXNrM7Gy",
        "outputId": "419dc8cc-a338-4fda-e4b0-db0a874ecfa6"
      },
      "execution_count": 29,
      "outputs": [
        {
          "output_type": "stream",
          "name": "stdout",
          "text": [
            "리히터 규모를 입력하시오.2.3\n",
            "물건들이 흔들리거나 떨어집니다.\n"
          ]
        }
      ]
    },
    {
      "cell_type": "code",
      "source": [
        "#lab:축구게임\n",
        "a=input(\"어디를 공격하시겠어요?(왼쪽:1,중앙:2,오른쪽:3)\")\n",
        "b=int(a)\n",
        "c=random.choice([1,2,3])\n",
        "if c==b:\n",
        "  print(\"패날티킥이 실패하였습니다. \")\n",
        "else:\n",
        "  print(\"패날티킥이 성공하였습니다.\")"
      ],
      "metadata": {
        "colab": {
          "base_uri": "https://localhost:8080/"
        },
        "id": "-9NGyjF9N5-0",
        "outputId": "95a57d07-909b-43a5-ded4-3b7f402e824b"
      },
      "execution_count": 36,
      "outputs": [
        {
          "output_type": "stream",
          "name": "stdout",
          "text": [
            "어디를 수비하시겠어요?(왼쪽:1,중앙:2,오른쪽:3)1\n",
            "패날티킥이 성공하였습니다.\n"
          ]
        }
      ]
    },
    {
      "cell_type": "code",
      "source": [
        "#lab: 올바른 삼각형 구분\n",
        "a=input(\"삼각형의 한변을 입력하세요.\")\n",
        "b=input(\"삼각형의 한변을 입력하세요.\")\n",
        "c=input(\"삼각형의 한변을 입력하세요.\")\n",
        "d=int(a)\n",
        "e=int(b)\n",
        "f=int(c)\n",
        "if d+e>f and d+f>e and e+f>d:\n",
        "  print(\"올바른 삼각형\")\n",
        "else:\n",
        "  print(\"올바르지 않은 삼각형\")\n"
      ],
      "metadata": {
        "colab": {
          "base_uri": "https://localhost:8080/"
        },
        "id": "0TAFns6SPSzi",
        "outputId": "5183bf9c-8401-4f2a-a377-348f3b3e9032"
      },
      "execution_count": 38,
      "outputs": [
        {
          "output_type": "stream",
          "name": "stdout",
          "text": [
            "삼각형의 한변을 입력하세요.4\n",
            "삼각형의 한변을 입력하세요.5\n",
            "삼각형의 한변을 입력하세요.2\n",
            "올바른 삼각형\n"
          ]
        }
      ]
    }
  ]
}