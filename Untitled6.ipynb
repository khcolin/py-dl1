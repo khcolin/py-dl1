{
  "nbformat": 4,
  "nbformat_minor": 0,
  "metadata": {
    "colab": {
      "provenance": [],
      "authorship_tag": "ABX9TyMmZIcnP7VRjEb8Lv5Rnl5H",
      "include_colab_link": true
    },
    "kernelspec": {
      "name": "python3",
      "display_name": "Python 3"
    },
    "language_info": {
      "name": "python"
    }
  },
  "cells": [
    {
      "cell_type": "markdown",
      "metadata": {
        "id": "view-in-github",
        "colab_type": "text"
      },
      "source": [
        "<a href=\"https://colab.research.google.com/github/khcolin/py-dl1/blob/main/Untitled6.ipynb\" target=\"_parent\"><img src=\"https://colab.research.google.com/assets/colab-badge.svg\" alt=\"Open In Colab\"/></a>"
      ]
    },
    {
      "cell_type": "code",
      "execution_count": null,
      "metadata": {
        "id": "kzPsegmfH0wY"
      },
      "outputs": [],
      "source": [
        "#6-1.(1)\n",
        "import numpy as np\n",
        "x= np.array([[1, 0, 1, 1], [0, 2, 1, -1], [1, 3, 4, 1]])\n",
        "\n",
        "print(x[2, 1]  )  # 알맞게 인덱싱하시오.\n",
        "\n",
        "\n",
        "#(2)\n",
        "print(x[1:, 1:3] )\n",
        "\n",
        "#(3)\n",
        "print(x[0, :]   )"
      ]
    },
    {
      "cell_type": "code",
      "source": [
        "#6-2.\n",
        "import numpy as np\n",
        "x= np.array([[1, 0, 1, 1], [0, 2, 1, -1], [1, 3, 4, 1]])\n",
        "y = np.array([[1, 0, 1, 0], [0,2, 3, 2], [1, 1, 4, 1]])\n",
        "print( x.dot(y.T    ) )  #빈 칸을 채우시오."
      ],
      "metadata": {
        "id": "St_KXqddIvpi"
      },
      "execution_count": null,
      "outputs": []
    },
    {
      "cell_type": "code",
      "source": [
        "#6-3.\n",
        "from numpy import random\n",
        "random.seed(100) # seed 를 고정하면 난수가 같은 방식으로 생성\n",
        "x= random.normal(0, 0.2, (4, 10)  )  #여기를 채우시오.\n",
        "print(x)\n",
        "np.sum( x, axis = 1  )  #여기를 채우시오.\n"
      ],
      "metadata": {
        "id": "A86Aj8bnI1LF"
      },
      "execution_count": null,
      "outputs": []
    },
    {
      "cell_type": "code",
      "source": [
        "#6-4.\n",
        "def f_3(x, w):\n",
        "    return (x-1)*x*(x+1)*(x-w)\n",
        "\n",
        "# 아래 코드를 적당히 고쳐 보세요.\n",
        "x=np.linspace( -3, 3, 100   ) # -3에서 3까지 범위 정하기\n",
        "plt.plot(x, f_3(x, 2)  , color='black', label ='$w=2$' )\n",
        "plt.plot(x, f_3(x,-2)   ,color='cornflowerblue', label= '$w=-2$')\n",
        "plt.legend(loc='best')\n",
        "plt.ylim( -5 , 100 )\n",
        "plt.title('$f_3(x)$')\n",
        "plt.xlabel('$x$')\n",
        "plt.ylabel('$y$')\n",
        "plt.grid(True)\n",
        "plt.show()"
      ],
      "metadata": {
        "id": "6B801KqUI6vB"
      },
      "execution_count": null,
      "outputs": []
    },
    {
      "cell_type": "code",
      "source": [
        "#6-5.\n",
        "import matplotlib.pyplot as plt\n",
        "# line 1 points\n",
        "x1 = [10,20,30]\n",
        "y1 = [20,40,10]\n",
        "# line 2 points\n",
        "x2 = [10,20,30]\n",
        "y2 = [40,10,30]\n",
        "# Set the x axis label of the current axis.\n",
        "plt.xlabel('x - axis')\n",
        "# Set the y axis label of the current axis.\n",
        "plt.ylabel('y - axis')\n",
        "# Set a title\n",
        "plt.title('Two or more lines with different widths and colors with suitable legends ')\n",
        "# Display the figure.\n",
        "plt.plot(x1,y1, color='blue', linewidth = 3,  label = 'line1-width-3')\n",
        "plt.plot(x2,y2, color='red', linewidth = 5,  label = 'line2-width-5')\n",
        "# show a legend on the plot\n",
        "plt.legend(loc='best')\n",
        "#여기에 알맞은 코드를 넣으시오.\n",
        "plt.show()"
      ],
      "metadata": {
        "id": "PIZkbczIJG9g"
      },
      "execution_count": null,
      "outputs": []
    }
  ]
}