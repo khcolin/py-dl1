{
  "nbformat": 4,
  "nbformat_minor": 0,
  "metadata": {
    "colab": {
      "provenance": [],
      "authorship_tag": "ABX9TyMUR1tSWOtDzdfmid6AARK3",
      "include_colab_link": true
    },
    "kernelspec": {
      "name": "python3",
      "display_name": "Python 3"
    },
    "language_info": {
      "name": "python"
    }
  },
  "cells": [
    {
      "cell_type": "markdown",
      "metadata": {
        "id": "view-in-github",
        "colab_type": "text"
      },
      "source": [
        "<a href=\"https://colab.research.google.com/github/khcolin/py-dl1/blob/main/Untitled3.ipynb\" target=\"_parent\"><img src=\"https://colab.research.google.com/assets/colab-badge.svg\" alt=\"Open In Colab\"/></a>"
      ]
    },
    {
      "cell_type": "code",
      "execution_count": null,
      "metadata": {
        "id": "MULcumrxPw0V"
      },
      "outputs": [],
      "source": [
        "#4-1.\n",
        "def is_odd(num) :\n",
        "    if num%2==0   :   #여기에 알맞은 코드를 적으시오.\n",
        "        print(\"%d 짝수입니다\"% num)\n",
        "\n",
        "    else :\n",
        "        print(\"홀수입니다\")\n",
        "\n",
        "is_odd(234)"
      ]
    },
    {
      "cell_type": "code",
      "source": [
        "#4-2.\n",
        "def mean_value(*args) :\n",
        "    result = 0\n",
        "    for i in args :\n",
        "      result=result+i\n",
        "              #여기에 알맞은 코드를 넣으시오.\n",
        "\n",
        "    return result/len(args)      #여기에 알밪은 코드를 넣으시오.\n",
        "\n",
        "mean_value(1, 2, 3, 4, 5, 6, 7)"
      ],
      "metadata": {
        "colab": {
          "base_uri": "https://localhost:8080/"
        },
        "id": "8xL_JLxeeSrs",
        "outputId": "cee0f27d-056e-45e3-e53f-f13a9b2c616d"
      },
      "execution_count": 6,
      "outputs": [
        {
          "output_type": "execute_result",
          "data": {
            "text/plain": [
              "4.0"
            ]
          },
          "metadata": {},
          "execution_count": 6
        }
      ]
    },
    {
      "cell_type": "code",
      "source": [
        "#4-3.\n",
        "\n",
        "def quo_and_rem(a, b) :\n",
        "    return (a//b,a%b)            #여기에 알맞은 코드를 넣으시오.\n",
        "\n",
        "quo_and_rem(12, 5)"
      ],
      "metadata": {
        "colab": {
          "base_uri": "https://localhost:8080/"
        },
        "id": "CjSCxmKbeSxj",
        "outputId": "dffa0e58-8c6d-4252-af8a-f9b6e8a7f4cb"
      },
      "execution_count": 7,
      "outputs": [
        {
          "output_type": "execute_result",
          "data": {
            "text/plain": [
              "(2, 2)"
            ]
          },
          "metadata": {},
          "execution_count": 7
        }
      ]
    },
    {
      "cell_type": "code",
      "source": [
        "#4-4.\n",
        "def is_gugu(n) :\n",
        "    for  i in range(1, 10)         :\n",
        "        print(n*i  , end=' ')  # 알맞은 코드를 넣으시오.\n",
        "\n",
        "is_gugu(4)"
      ],
      "metadata": {
        "colab": {
          "base_uri": "https://localhost:8080/"
        },
        "id": "v8s1fg4NeS0K",
        "outputId": "be6950cb-807d-4f5e-ddd0-10837727b848"
      },
      "execution_count": 3,
      "outputs": [
        {
          "output_type": "stream",
          "name": "stdout",
          "text": [
            "4 8 12 16 20 24 28 32 36 "
          ]
        }
      ]
    },
    {
      "cell_type": "code",
      "source": [
        "#4-5.\n",
        "def fib(n):\n",
        "    \"\"\"n번째 피보나치 수를 반환한다.\"\"\"\n",
        "    if n == 1:     # 첫 번째 피보나치 수는 1\n",
        "        return 1\n",
        "    elif n == 2:   # 두 번째 피보나치 수는 1\n",
        "        return 1\n",
        "    else:          # 그 후의 피보나치 수\n",
        "        return fib(n-1)+fib(n-2)\n",
        "                   #여기에 알맞은 코드를 넣으시오.\n",
        "\n",
        "fib(20)"
      ],
      "metadata": {
        "colab": {
          "base_uri": "https://localhost:8080/"
        },
        "id": "hlgE_Kp2eS2q",
        "outputId": "5c21bdd1-423a-4435-ae2a-2aabbc170b6c"
      },
      "execution_count": 10,
      "outputs": [
        {
          "output_type": "execute_result",
          "data": {
            "text/plain": [
              "6765"
            ]
          },
          "metadata": {},
          "execution_count": 10
        }
      ]
    },
    {
      "cell_type": "code",
      "source": [
        "#4-6.\n",
        "def grading(num) :\n",
        "    \"등급 주는 함수\"\n",
        "    if   num>=90     :  #여기에 알맞은 코드를 넣으시오.\n",
        "        return \"A\"\n",
        "    elif num >= 80 :\n",
        "        return \"B\"\n",
        "    elif num >= 70 :\n",
        "        return \"C\"\n",
        "    elif num >= 60 :\n",
        "        return \"D\"\n",
        "    else :\n",
        "      return\"F\"\n",
        "                   #여기에 알맞은 코드를 넣으시오.\n",
        "num = int(input(\"당신의 점수는?\"))\n",
        "print(f'{num}점은 { grading(num)     } 입니다. ') #여기에 알맞은 코드를 넣으시오."
      ],
      "metadata": {
        "colab": {
          "base_uri": "https://localhost:8080/"
        },
        "id": "QuEOlmjMpZCy",
        "outputId": "6ba2ecca-7ea2-4b4d-9c38-c8f75d4d35be"
      },
      "execution_count": 13,
      "outputs": [
        {
          "output_type": "stream",
          "name": "stdout",
          "text": [
            "당신의 점수는?67\n",
            "67점은 D 입니다. \n"
          ]
        }
      ]
    },
    {
      "cell_type": "code",
      "source": [
        "#4-7.\n",
        "try:\n",
        "    number = int(input(\"자연수를 입력하세요 \"))\n",
        "    if number %2 ==0:\n",
        "        print(\"짝수\")\n",
        "    else:\n",
        "        print(\"홀수\")\n",
        "\n",
        "except ValueError:    #여기에 에러 이름을 적으시오.   :\n",
        "    print(\"자연수를 입력하세요\")"
      ],
      "metadata": {
        "colab": {
          "base_uri": "https://localhost:8080/"
        },
        "id": "RbIJq5i3stU4",
        "outputId": "93751fd4-505f-48bb-c3e0-2f081bd6b855"
      },
      "execution_count": 17,
      "outputs": [
        {
          "output_type": "stream",
          "name": "stdout",
          "text": [
            "자연수를 입력하세요 6\n",
            "짝수\n"
          ]
        }
      ]
    },
    {
      "cell_type": "code",
      "source": [
        "#4-8.\n",
        "def check_prime(n):\n",
        "    try:\n",
        "        if n !=2:\n",
        "            for i in  range(2,n) :  #적당한 코드를 넣으시오.\n",
        "                if  n%i==0  :   #적당한 코드를 넣으시오.\n",
        "                    print(\"소수가 아닙니다\")\n",
        "                    break\n",
        "                elif i == n-1 :\n",
        "                    print(\"소수입니다\")\n",
        "        else:\n",
        "            print(\"소수입니다.\")\n",
        "    except  ValueError     :\n",
        "        print(\"자연수를 입력하세요\")\n",
        "\n",
        "check_prime(10)"
      ],
      "metadata": {
        "colab": {
          "base_uri": "https://localhost:8080/"
        },
        "id": "FbY6Z9ocstYg",
        "outputId": "bdc38a55-4743-4435-f8b1-6b91dff3bf40"
      },
      "execution_count": 19,
      "outputs": [
        {
          "output_type": "stream",
          "name": "stdout",
          "text": [
            "소수가 아닙니다\n"
          ]
        }
      ]
    },
    {
      "cell_type": "code",
      "source": [
        "#4-9.\n",
        "def factorization_prime(n):\n",
        "    \"\"\"1보다 큰 자연수 n을 변수로 받아 소인수분해 하는 함수\"\"\"\n",
        "    a = []\n",
        "\n",
        "    while n != 1:\n",
        "        for i in range(2,n+1)    :  #적당한 코드를 넣으시오.\n",
        "            if n%i == 0:\n",
        "                a.append(i)\n",
        "                n =  n//i     # 적당한 코드를 넣으시오.\n",
        "                break\n",
        "    return a\n",
        "\n",
        "\n",
        "\n",
        "\n",
        "\n",
        "\n",
        "print(factorization_prime(43286))"
      ],
      "metadata": {
        "colab": {
          "base_uri": "https://localhost:8080/"
        },
        "id": "DDFRCg68stjP",
        "outputId": "e15a8c1f-4934-4072-a96b-c2a3968720bd"
      },
      "execution_count": 21,
      "outputs": [
        {
          "output_type": "stream",
          "name": "stdout",
          "text": [
            "[2, 23, 941]\n"
          ]
        }
      ]
    },
    {
      "cell_type": "code",
      "source": [
        "#4-10.\n",
        "def ugly_number(n):\n",
        "    result = factorization_prime(n)\n",
        "\n",
        "    if max(result) >5    :                 ######리스트에서 최소 최대 찾기 적당한 코드를 넣으시오.\n",
        "        print(\"못난이 수가 아닙니다.\")\n",
        "\n",
        "    else:\n",
        "        print(\"못난이 수입니다.\")\n",
        "\n",
        "ugly_number(18)"
      ],
      "metadata": {
        "id": "77jTdfD1stl3"
      },
      "execution_count": null,
      "outputs": []
    },
    {
      "cell_type": "code",
      "source": [
        "#4-11.\n",
        "from string import ascii_lowercase\n",
        "#string 모듈에 있는 ascii_lowercase 를 사용하면 소문자를 불러올 수 있습니다. print(ascii_lowercase)를 실행하면 볼 수 있습니다.\n",
        "\n",
        "\n",
        "\n",
        "def caesar():\n",
        "    alpha = list(ascii_lowercase.upper())               #알파벳 대문자 리스트\n",
        "    move = int(input('원하는 평행 이동을 적으시오: '))\n",
        "    message = input('보내고 싶은 메시지는?: ')\n",
        "    message_list = list(message)\n",
        "\n",
        "    k=0\n",
        "\n",
        "    for i in message_list:\n",
        "        index = alpha.index(i)                        #alpha.index(i)는 alpha라는 리스트의 i의 위치를 반환\n",
        "        new_index = index+move                   #위에 찾은 것과 move를 더한 후 26으로 나눈 나머지로 새 index\n",
        "        message_list[k] = alpha[new_index%26]\n",
        "        k +=1\n",
        "    return message_list\n",
        "\n",
        "print(caesar())"
      ],
      "metadata": {
        "colab": {
          "base_uri": "https://localhost:8080/"
        },
        "id": "i3bcGLsHwI2A",
        "outputId": "ec0c4743-5701-485b-9243-687768988cb8"
      },
      "execution_count": 23,
      "outputs": [
        {
          "output_type": "stream",
          "name": "stdout",
          "text": [
            "원하는 평행 이동을 적으시오: 3\n",
            "보내고 싶은 메시지는?: ABY\n",
            "['D', 'E', 'B']\n"
          ]
        }
      ]
    },
    {
      "cell_type": "code",
      "source": [
        "#4-12.\n",
        "def colla() :\n",
        "    numb = int(input('임의의 자연수를 입력하시오: '))\n",
        "\n",
        "    while True:\n",
        "        print(numb)\n",
        "        if numb ==1:\n",
        "            break\n",
        "        elif numb%2==0     : #적당한 코드를 넣으시오.\n",
        "            numb = int( numb/2 )\n",
        "            continue\n",
        "        elif  numb%2==1     :  #적당한 코드를 넣으시오.\n",
        "            numb = numb*3 +1\n",
        "            continue\n",
        "\n",
        "\n",
        "colla()\n"
      ],
      "metadata": {
        "colab": {
          "base_uri": "https://localhost:8080/"
        },
        "id": "_cDoi9qBwI8W",
        "outputId": "52932df6-ba49-438c-a600-72a50e427bb2"
      },
      "execution_count": 24,
      "outputs": [
        {
          "output_type": "stream",
          "name": "stdout",
          "text": [
            "임의의 자연수를 입력하시오: 18\n",
            "18\n",
            "9\n",
            "28\n",
            "14\n",
            "7\n",
            "22\n",
            "11\n",
            "34\n",
            "17\n",
            "52\n",
            "26\n",
            "13\n",
            "40\n",
            "20\n",
            "10\n",
            "5\n",
            "16\n",
            "8\n",
            "4\n",
            "2\n",
            "1\n"
          ]
        }
      ]
    }
  ]
}