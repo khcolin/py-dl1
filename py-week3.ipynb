{
  "nbformat": 4,
  "nbformat_minor": 0,
  "metadata": {
    "colab": {
      "provenance": [],
      "authorship_tag": "ABX9TyMY2lmtTQ3PzbZZ+GMtvcls",
      "include_colab_link": true
    },
    "kernelspec": {
      "name": "python3",
      "display_name": "Python 3"
    },
    "language_info": {
      "name": "python"
    }
  },
  "cells": [
    {
      "cell_type": "markdown",
      "metadata": {
        "id": "view-in-github",
        "colab_type": "text"
      },
      "source": [
        "<a href=\"https://colab.research.google.com/github/khcolin/py-dl1/blob/main/py-week3.ipynb\" target=\"_parent\"><img src=\"https://colab.research.google.com/assets/colab-badge.svg\" alt=\"Open In Colab\"/></a>"
      ]
    },
    {
      "cell_type": "code",
      "execution_count": 6,
      "metadata": {
        "colab": {
          "base_uri": "https://localhost:8080/"
        },
        "id": "TGQWlGd1N0yO",
        "outputId": "4d295c60-eb75-4748-deca-edb0c547d14d"
      },
      "outputs": [
        {
          "output_type": "stream",
          "name": "stdout",
          "text": [
            "좋아하는 과일은? 사과\n",
            "정답입니다\n"
          ]
        }
      ],
      "source": [
        "#3-1.\n",
        "#아래 코드를 완성하시오.\n",
        "fruit =[\"사과\", \"포도\", \"홍시\"]\n",
        "user_fruit = input(\"좋아하는 과일은? \")\n",
        "\n",
        "if user_fruit in fruit :   # 이 부분을 완성하시오\n",
        "    print(\"정답입니다\")\n",
        "else :\n",
        "    print(\"오답입니다\")            # 이 부분을 완성하시오."
      ]
    },
    {
      "cell_type": "code",
      "source": [
        "#3-2.\n",
        "\n",
        "\n",
        "grade = int(input(\"Score를 입력하세요: \"))\n",
        "\n",
        "if grade >=81 and grade <=100:\n",
        "    print(\"grade is A\")\n",
        "elif  grade >= 61  :\n",
        "    print(\"grade is B\")\n",
        "elif  grade >=41     :\n",
        "    print(\"grade is C\")\n",
        "elif  grade >= 21   :\n",
        "    print(\"grade is D\")\n",
        "else:\n",
        "    print(\"grade is E\")"
      ],
      "metadata": {
        "colab": {
          "base_uri": "https://localhost:8080/"
        },
        "id": "3BUIcUM4TSbn",
        "outputId": "19d48b19-30bb-4315-fa0c-c60af33fd6c2"
      },
      "execution_count": 11,
      "outputs": [
        {
          "output_type": "stream",
          "name": "stdout",
          "text": [
            "Score를 입력하세요: 89\n",
            "grade is A\n"
          ]
        }
      ]
    },
    {
      "cell_type": "code",
      "source": [
        "#3-3.\n",
        "idx = [2, 3, 4, 5, 6, 7, 8, 9, 2, 3, 4, 5]\n",
        "num = input(\"주민등록번호를 입력하시오: (xxxxxx-xxxxxxx형태로)\")\n",
        "num = num.replace('-', '')\n",
        "s = 0\n",
        "for i in range(12):\n",
        "    s += int(num[i])*idx[i]         # s+= 은 s=s+\n",
        "\n",
        "mod = s % 11\n",
        "c = (11 - mod) % 10   # 이 부분을 채우시오.\n",
        "\n",
        "if  c == num[12]    :  #이 부분을 채우시오.\n",
        "    print(\"유효한 주민등록번호 입니다.\")\n",
        "else:\n",
        "    print(\"유효하지 않은 주민등록번호입니다. \")"
      ],
      "metadata": {
        "id": "IzebRToOXVj3"
      },
      "execution_count": null,
      "outputs": []
    },
    {
      "cell_type": "code",
      "source": [
        "#3-4.\n",
        "num = int(input(\"구매할 상품 개수를 입력하시오: \"))\n",
        "\n",
        "if  num<10   : #10개 미만\n",
        "    price = 100\n",
        "elif num>= 10 and num <30:\n",
        "    price = 95\n",
        "elif num>=30 and num<100          :\n",
        "    price = 90\n",
        "elif num>=100      :\n",
        "    price = 85\n",
        "\n",
        "pay = num*price\n",
        "print(f\"총 지불해야할 가격은 {pay}원입니다.\")"
      ],
      "metadata": {
        "colab": {
          "base_uri": "https://localhost:8080/"
        },
        "id": "ZYQMOUWYOeNp",
        "outputId": "575f6af0-fd8e-4cd4-d14d-b639e4300457"
      },
      "execution_count": 13,
      "outputs": [
        {
          "output_type": "stream",
          "name": "stdout",
          "text": [
            "구매할 상품 개수를 입력하시오: 23\n",
            "총 지불해야할 가격은 2185원입니다.\n"
          ]
        }
      ]
    },
    {
      "cell_type": "code",
      "source": [
        "#3-5.\n",
        "year = int(input(\"년도를 입력하시오: \"))\n",
        "\n",
        "if year % 400 ==0 : # 400으로 나누어 떨어지는 해는 윤년\n",
        "    print(f\"{year}년은 윤년이다.\")\n",
        "elif year%100==0      : #100으로 나누어 떨어지고 400으로 나누어 지지 않는 해는 평년\n",
        "    print(f\"{year}년은 윤년이 아니다.\")\n",
        "elif  year%4==0     : # 100으로 나누어 지지 않고 4로 나누어 떨어지는 해는 윤년\n",
        "    print(f\"{year}년은 윤년이다.\")\n",
        "else :\n",
        "    print(f\"{year}년은 윤년이 아니다.\")"
      ],
      "metadata": {
        "colab": {
          "base_uri": "https://localhost:8080/"
        },
        "id": "Qh9YcncpVdSm",
        "outputId": "bcebceb3-6177-4ddf-9376-88275d338d2b"
      },
      "execution_count": 19,
      "outputs": [
        {
          "output_type": "stream",
          "name": "stdout",
          "text": [
            "년도를 입력하시오: 2100\n",
            "2100년은 윤년이 아니다.\n"
          ]
        }
      ]
    },
    {
      "cell_type": "code",
      "source": [
        "#3-6.\n",
        "year = int(input(\"년도를 입력하시오: \"))\n",
        "month = int(input(\"월을 입력하시오: \"))\n",
        "\n",
        "if   month in      [1, 3, 5, 7, 8,10, 12]: # 그 달이 1, 3, 5, 7, 8, 10, 12월이면 31일\n",
        "    print(f\"{month}월은 31일까지 있다.\")\n",
        "elif  month in        [4, 6, 9, 11]: #30일인 달\n",
        "    print(f\"{month}월은 30일까지 있다.\")\n",
        "else:\n",
        "    if   year % 400 ==0     : #위의 과정을 참고해서 코드를 채울 것\n",
        "        print(f\"{month}월은 29일까지 있다.\")\n",
        "    elif  year%100==0        :\n",
        "        print(f\"{month}월은 28일까지 있다.\")\n",
        "    elif    year%4==0      :\n",
        "        print(f\"{month}월은 29일까지 있다.\")\n",
        "    else  :\n",
        "        print(f\"{month}월은 28일까지 있다.\")"
      ],
      "metadata": {
        "colab": {
          "base_uri": "https://localhost:8080/"
        },
        "id": "AEcxWjk_Vduu",
        "outputId": "b49e9ab1-1425-4f46-84f6-a5e2224f9a12"
      },
      "execution_count": 20,
      "outputs": [
        {
          "output_type": "stream",
          "name": "stdout",
          "text": [
            "년도를 입력하시오: 2000\n",
            "월을 입력하시오: 12\n",
            "12월은 31일까지 있다.\n"
          ]
        }
      ]
    },
    {
      "cell_type": "code",
      "source": [
        "#3-7.\n",
        "i = 1\n",
        "total = 0\n",
        "while   i <1001    :\n",
        "    if  i%3==0     : # 3의 배수이면 ?\n",
        "        total += i\n",
        "    i +=1\n",
        "\n",
        "\n",
        "print(f\"1부터 1000까지의 자연수 중 3의 배수의 합은 {total}이다.\")"
      ],
      "metadata": {
        "colab": {
          "base_uri": "https://localhost:8080/"
        },
        "id": "ZeJ_vlz2Vdxt",
        "outputId": "817a85ae-55d9-4dc1-b312-8d775a2be15b"
      },
      "execution_count": 21,
      "outputs": [
        {
          "output_type": "stream",
          "name": "stdout",
          "text": [
            "1부터 1000까지의 자연수 중 3의 배수의 합은 166833이다.\n"
          ]
        }
      ]
    },
    {
      "cell_type": "code",
      "source": [
        "#3-8.\n",
        "A = [20,55,67,82,45,33,90,87,100,25]\n",
        "i = 0\n",
        "total = 0\n",
        "while  i<=100  :\n",
        "    if  i>=50  and i in A  :\n",
        "      total=total+i\n",
        "    i=i+1\n",
        "\n",
        "\n",
        "\n",
        "\n",
        "print(total)"
      ],
      "metadata": {
        "colab": {
          "base_uri": "https://localhost:8080/"
        },
        "id": "zeyWPP1keRgE",
        "outputId": "a6d73f26-c6b4-4b82-82af-f16dab2ad429"
      },
      "execution_count": 32,
      "outputs": [
        {
          "output_type": "stream",
          "name": "stdout",
          "text": [
            "481\n"
          ]
        }
      ]
    },
    {
      "cell_type": "code",
      "source": [
        "#3-8.(교수님 풀이)\n",
        "A = [20,55,67,82,45,33,90,87,100,25]\n",
        "i = 0\n",
        "total = 0\n",
        "while  i<10  :\n",
        "    if  A[i]>=50  :\n",
        "      total=total+A[i]\n",
        "    i=i+1\n",
        "\n",
        "\n",
        "\n",
        "\n",
        "print(total)"
      ],
      "metadata": {
        "id": "Eau-W43OiX5K"
      },
      "execution_count": null,
      "outputs": []
    },
    {
      "cell_type": "code",
      "source": [
        "#3-9.\n",
        "i = 1\n",
        "while  1 :\n",
        "    print( \"*\"*i   )\n",
        "    i=i+1    # i를 키워줘야 함.\n",
        "    if i ==11:\n",
        "        break\n"
      ],
      "metadata": {
        "colab": {
          "base_uri": "https://localhost:8080/"
        },
        "id": "_bAq78MVeRmz",
        "outputId": "98583efc-09b9-41a0-9e2e-d8ad472f5fbb"
      },
      "execution_count": 31,
      "outputs": [
        {
          "output_type": "stream",
          "name": "stdout",
          "text": [
            "*\n",
            "**\n",
            "***\n",
            "****\n",
            "*****\n",
            "******\n",
            "*******\n",
            "********\n",
            "*********\n",
            "**********\n"
          ]
        }
      ]
    },
    {
      "cell_type": "code",
      "source": [
        "#3-10.\n",
        "total = 0\n",
        "i = 100\n",
        "while  i<10000    :\n",
        "  if i%5==0:\n",
        "    total=total+i\n",
        "  i=i+1\n",
        "\n",
        "\n",
        "\n",
        "print(total)"
      ],
      "metadata": {
        "colab": {
          "base_uri": "https://localhost:8080/"
        },
        "id": "x_84UfcAeRxT",
        "outputId": "810b2cb9-f318-449f-f594-1ac5f0f0afa9"
      },
      "execution_count": 34,
      "outputs": [
        {
          "output_type": "stream",
          "name": "stdout",
          "text": [
            "9994050\n"
          ]
        }
      ]
    },
    {
      "cell_type": "code",
      "source": [
        "#3-11.\n",
        "for i in range(1,101)   :\n",
        "    print(i,end = \" \")"
      ],
      "metadata": {
        "colab": {
          "base_uri": "https://localhost:8080/"
        },
        "id": "RfUGpaTWjSz0",
        "outputId": "d9498ddf-e27a-4bfb-b77e-0ffabc9bee7c"
      },
      "execution_count": 37,
      "outputs": [
        {
          "output_type": "stream",
          "name": "stdout",
          "text": [
            "1 2 3 4 5 6 7 8 9 10 11 12 13 14 15 16 17 18 19 20 21 22 23 24 25 26 27 28 29 30 31 32 33 34 35 36 37 38 39 40 41 42 43 44 45 46 47 48 49 50 51 52 53 54 55 56 57 58 59 60 61 62 63 64 65 66 67 68 69 70 71 72 73 74 75 76 77 78 79 80 81 82 83 84 85 86 87 88 89 90 91 92 93 94 95 96 97 98 99 100 "
          ]
        }
      ]
    },
    {
      "cell_type": "code",
      "source": [
        "#3-12.\n",
        "A = [70,60,55,75,95,90,80,80,85,100]\n",
        "total = 0\n",
        "for  num in A  :\n",
        "  total=total+num\n",
        "\n",
        "\n",
        "average = total / len(A)\n",
        "print(f\"A학급의 평균 점수는 {average}이다.\")"
      ],
      "metadata": {
        "colab": {
          "base_uri": "https://localhost:8080/"
        },
        "id": "bdm7h9trjS46",
        "outputId": "74d69236-1bd4-4d9b-eada-68cec6ac10d8"
      },
      "execution_count": 40,
      "outputs": [
        {
          "output_type": "stream",
          "name": "stdout",
          "text": [
            "A학급의 평균 점수는 79.0이다.\n"
          ]
        }
      ]
    },
    {
      "cell_type": "code",
      "source": [
        "#3-13.\n",
        "numbers = []\n",
        "\n",
        "for i in range(1, 101):\n",
        "    numbers.append(i)\n",
        "\n",
        "for i in range(100) :\n",
        "    if \"3\" in str(numbers[i]):\n",
        "        numbers[i] = \"*\"\n",
        "    if   \"6\" in str(numbers[i]):\n",
        "        numbers[i] = \"*\"\n",
        "    if   \"9\" in str(numbers[i]):\n",
        "        numbers[i] = \"*\"\n",
        "\n",
        "\n",
        "print(numbers)"
      ],
      "metadata": {
        "colab": {
          "base_uri": "https://localhost:8080/"
        },
        "id": "MVvDfb8djWaR",
        "outputId": "39c116ca-3331-42f6-cf69-390749397eda"
      },
      "execution_count": 41,
      "outputs": [
        {
          "output_type": "stream",
          "name": "stdout",
          "text": [
            "[1, 2, '*', 4, 5, '*', 7, 8, '*', 10, 11, 12, '*', 14, 15, '*', 17, 18, '*', 20, 21, 22, '*', 24, 25, '*', 27, 28, '*', '*', '*', '*', '*', '*', '*', '*', '*', '*', '*', 40, 41, 42, '*', 44, 45, '*', 47, 48, '*', 50, 51, 52, '*', 54, 55, '*', 57, 58, '*', '*', '*', '*', '*', '*', '*', '*', '*', '*', '*', 70, 71, 72, '*', 74, 75, '*', 77, 78, '*', 80, 81, 82, '*', 84, 85, '*', 87, 88, '*', '*', '*', '*', '*', '*', '*', '*', '*', '*', '*', 100]\n"
          ]
        }
      ]
    },
    {
      "cell_type": "code",
      "source": [
        "#3-14.\n",
        "sum = 0\n",
        "for i in range(1,101):\n",
        "    if  i%3==0 :\n",
        "        sum += i\n",
        "\n",
        "    elif i%4==0  :\n",
        "        sum+=i\n",
        "\n",
        "\n",
        "print(sum)"
      ],
      "metadata": {
        "colab": {
          "base_uri": "https://localhost:8080/"
        },
        "id": "DYKMuKDojcxN",
        "outputId": "ed75db66-b44e-4464-8af1-ad93cd767bda"
      },
      "execution_count": 42,
      "outputs": [
        {
          "output_type": "stream",
          "name": "stdout",
          "text": [
            "2551\n"
          ]
        }
      ]
    },
    {
      "cell_type": "code",
      "source": [
        "#3-15.\n",
        "import random  #import는 끝 숫자도 포함, numpy는 끝 숫자 포함 x\n",
        "a= [random.randint(0,100) for value in range(0,20)]           # 무작위 리스트 생성하는 법!!!!!!!!!!,0부터 100까지 나올 수 있음.(주의)\n",
        "max = a[0]\n",
        "for i in range(1, 20)     :\n",
        "    if  max>=a[i]   :\n",
        "        continue\n",
        "    else:\n",
        "        max = a[i]\n",
        "\n",
        "\n",
        "print(f\"리스트: {a}\\n최대값: {max}\")\n"
      ],
      "metadata": {
        "colab": {
          "base_uri": "https://localhost:8080/"
        },
        "id": "WF7MDBtGjc0p",
        "outputId": "be626f8c-fcfe-45a7-f87e-41880d676ead"
      },
      "execution_count": 52,
      "outputs": [
        {
          "output_type": "stream",
          "name": "stdout",
          "text": [
            "리스트: [61, 15, 84, 35, 73, 22, 29, 84, 4, 8, 80, 62, 67, 19, 16, 47, 26, 88, 0, 22]\n",
            "최대값: 88\n"
          ]
        }
      ]
    },
    {
      "cell_type": "code",
      "source": [],
      "metadata": {
        "colab": {
          "base_uri": "https://localhost:8080/"
        },
        "id": "b7thdMYIsKr3",
        "outputId": "c5b1126b-4b8b-454a-fe19-7909614a4898"
      },
      "execution_count": 47,
      "outputs": [
        {
          "output_type": "stream",
          "name": "stdout",
          "text": [
            "dd\n",
            "dd\n",
            "dd\n"
          ]
        }
      ]
    }
  ]
}