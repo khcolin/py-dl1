{
  "nbformat": 4,
  "nbformat_minor": 0,
  "metadata": {
    "colab": {
      "provenance": [],
      "authorship_tag": "ABX9TyNuD3nrXtqoGEqW04YjU2em",
      "include_colab_link": true
    },
    "kernelspec": {
      "name": "python3",
      "display_name": "Python 3"
    },
    "language_info": {
      "name": "python"
    }
  },
  "cells": [
    {
      "cell_type": "markdown",
      "metadata": {
        "id": "view-in-github",
        "colab_type": "text"
      },
      "source": [
        "<a href=\"https://colab.research.google.com/github/khcolin/py-dl1/blob/main/20221392%EB%B0%95%EA%B2%BD%ED%9B%88%EA%B3%BC%EC%A0%9C5.ipynb\" target=\"_parent\"><img src=\"https://colab.research.google.com/assets/colab-badge.svg\" alt=\"Open In Colab\"/></a>"
      ]
    },
    {
      "cell_type": "code",
      "execution_count": 1,
      "metadata": {
        "colab": {
          "base_uri": "https://localhost:8080/"
        },
        "id": "E5CPxXvRkwd-",
        "outputId": "f8712eb7-bfd6-4681-c3d1-7a029c756f30"
      },
      "outputs": [
        {
          "output_type": "stream",
          "name": "stdout",
          "text": [
            "피자의 반지름을 입력하세요: 3\n",
            "피자의 면적은 28.27입니다.\n"
          ]
        }
      ],
      "source": [
        "#lab: 피자 크기 비교\n",
        "import math\n",
        "\n",
        "def pizza_area(radius):\n",
        "\n",
        "    area = math.pi * (radius ** 2)\n",
        "    return area\n",
        "\n",
        "r = float(input(\"피자의 반지름을 입력하세요: \"))\n",
        "print(f\"피자의 면적은 {pizza_area(r):.2f}입니다.\")\n"
      ]
    },
    {
      "cell_type": "code",
      "source": [
        "#lab: 환영 문자열 출력 함수\n",
        "def display(msg, count):\n",
        "    \"\"\"msg 문자열을 count번 출력하는 함수\"\"\"\n",
        "    for i in range(count):\n",
        "        print(msg)\n",
        "\n",
        "\n",
        "display(\"환영합니다\", 5)\n"
      ],
      "metadata": {
        "colab": {
          "base_uri": "https://localhost:8080/"
        },
        "id": "9n0JIXYblk1C",
        "outputId": "80960b6f-834a-4281-e4d5-289b19c7bb2b"
      },
      "execution_count": 5,
      "outputs": [
        {
          "output_type": "stream",
          "name": "stdout",
          "text": [
            "환영합니다\n",
            "환영합니다\n",
            "환영합니다\n",
            "환영합니다\n",
            "환영합니다\n"
          ]
        }
      ]
    },
    {
      "cell_type": "code",
      "source": [
        "#lab:여러개의 값 반환\n",
        "def nameage():\n",
        "    name = input(\"이름을 입력하세요: \")\n",
        "    age = int(input(\"나이를 입력하세요: \"))\n",
        "    print(f\"이름은 {name}이고 나이는 {age}살입니다.\")\n",
        "\n",
        "nameage()\n"
      ],
      "metadata": {
        "colab": {
          "base_uri": "https://localhost:8080/"
        },
        "id": "HY_h8NzNltSt",
        "outputId": "3484d422-7bdc-4cfa-a976-5d323a0c86e7"
      },
      "execution_count": 4,
      "outputs": [
        {
          "output_type": "stream",
          "name": "stdout",
          "text": [
            "이름을 입력하세요: 홍길동\n",
            "나이를 입력하세요: 20\n",
            "이름은 홍길동이고 나이는 20살입니다.\n"
          ]
        }
      ]
    }
  ]
}