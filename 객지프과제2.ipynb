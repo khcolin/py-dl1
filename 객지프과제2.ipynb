{
  "nbformat": 4,
  "nbformat_minor": 0,
  "metadata": {
    "colab": {
      "provenance": [],
      "authorship_tag": "ABX9TyPIrul222i7LoI5HyZI5YES",
      "include_colab_link": true
    },
    "kernelspec": {
      "name": "python3",
      "display_name": "Python 3"
    },
    "language_info": {
      "name": "python"
    }
  },
  "cells": [
    {
      "cell_type": "markdown",
      "metadata": {
        "id": "view-in-github",
        "colab_type": "text"
      },
      "source": [
        "<a href=\"https://colab.research.google.com/github/khcolin/py-dl1/blob/main/%EA%B0%9D%EC%A7%80%ED%94%84%EA%B3%BC%EC%A0%9C2.ipynb\" target=\"_parent\"><img src=\"https://colab.research.google.com/assets/colab-badge.svg\" alt=\"Open In Colab\"/></a>"
      ]
    },
    {
      "cell_type": "code",
      "execution_count": null,
      "metadata": {
        "colab": {
          "base_uri": "https://localhost:8080/"
        },
        "id": "98aWM6qx2NgQ",
        "outputId": "12aa6268-b49d-4b62-f63c-8e0688f861ce"
      },
      "outputs": [
        {
          "output_type": "stream",
          "name": "stdout",
          "text": [
            "프록시마 센타우리까지 시간은 4.227972264501945년이다\n"
          ]
        }
      ],
      "source": [
        "#lab:별까지의 거리 계산하기\n",
        "\n",
        "r = 40 * 10**12   #\n",
        "c = 300000\n",
        "year = 60 * 60 * 24 * 365\n",
        "ls = c * year\n",
        "time_years = r / ls\n",
        "print(f\"프록시마 센타우리까지 시간은 {time_years:.15f}년이다\")"
      ]
    },
    {
      "cell_type": "code",
      "source": [
        "#lab: 원기둥의 부피 계산\n",
        "r=5\n",
        "h=10\n",
        "pi=3.14\n",
        "print(pi*r*r*h)"
      ],
      "metadata": {
        "colab": {
          "base_uri": "https://localhost:8080/"
        },
        "id": "2okKXnZwxco9",
        "outputId": "54e603bf-5aa6-451e-8bff-2725f14ec531"
      },
      "execution_count": 1,
      "outputs": [
        {
          "output_type": "stream",
          "name": "stdout",
          "text": [
            "785.0\n"
          ]
        }
      ]
    },
    {
      "cell_type": "code",
      "source": [
        "# lab:복리계산\n",
        "principal = 24\n",
        "rate = 0.06\n",
        "years = 382\n",
        "amount = principal * (1 + rate) ** years\n",
        "\n",
        "print(f\"382년 후 원리금 합계: {amount} 달러\")"
      ],
      "metadata": {
        "colab": {
          "base_uri": "https://localhost:8080/"
        },
        "id": "iC2vVdOPyRCH",
        "outputId": "8d8d285a-46d9-44cf-eaa7-c2f065c5f1ab"
      },
      "execution_count": 3,
      "outputs": [
        {
          "output_type": "stream",
          "name": "stdout",
          "text": [
            "382년 후 원리금 합계: 111442737812.28842 달러\n"
          ]
        }
      ]
    },
    {
      "cell_type": "code",
      "source": [
        "#lab:로봇 기자 만들기\n",
        "a=input(\"경기장은어디입니까?\")\n",
        "b=input(\"이긴팀은어디입니까?\")\n",
        "c=input(\"진팀은어디입니까?\")\n",
        "d=input(\"우수선수는누구입니까?\")\n",
        "e=input(\"스코어는몇대몇입니까?\")\n",
        "\n",
        "print(f\"오늘{a}에서야구경기가열렸습니다.\")\n",
        "print(f\"{b}과{c} 은치열한공방전을펼쳤습니다.\")\n",
        "print(f\"{d}이맹활약을하였습니다\")\n",
        "print(f\"결국{b}가{c} 를{e} 로이겼습니다.\")\n",
        "\n"
      ],
      "metadata": {
        "colab": {
          "base_uri": "https://localhost:8080/"
        },
        "id": "RF1OQYpPzN6Q",
        "outputId": "f7b1e923-5584-4273-f206-1274fa70ae73"
      },
      "execution_count": 4,
      "outputs": [
        {
          "output_type": "stream",
          "name": "stdout",
          "text": [
            "경기장은어디입니까?서울\n",
            "이긴팀은어디입니까?삼성\n",
            "진팀은어디입니까?lg\n",
            "우수선수는누구입니까?홍길동\n",
            "스코어는몇대몇입니까?8:7\n",
            "오늘서울에서야구경기가열렸습니다.\n",
            "삼성과lg 은치열한공방전을펼쳤습니다.\n",
            "홍길동이맹활약을하였습니다\n",
            "결국삼성가lg 를8:7 로이겼습니다.\n"
          ]
        }
      ]
    },
    {
      "cell_type": "code",
      "source": [
        "#lab: 대화하는 프로그램 만들기\n",
        "a=input(\"안녕하세요? 이름이 어떻게 되시나요?\")\n",
        "\n",
        "print(f\"만나서 반갑습니다.{a}씨\")\n",
        "print(f\"이름의 길이는 다음과 같군요.{len(a)}\")\n",
        "\n",
        "b=input(\"나이가 어떻게 되시나요?\")\n",
        "print(f\"내년이면 {int(b)+1}이 되시는군요\")"
      ],
      "metadata": {
        "colab": {
          "base_uri": "https://localhost:8080/"
        },
        "id": "BZNvNMSS2adE",
        "outputId": "66d6712f-f81f-4d37-978b-2fd65f457515"
      },
      "execution_count": 6,
      "outputs": [
        {
          "output_type": "stream",
          "name": "stdout",
          "text": [
            "안녕하세요? 이름이 어떻게 되시나요?박경훈\n",
            "만나서 반갑습니다.박경훈씨\n",
            "이름의 길이는 다음과 같군요.3\n",
            "나이가 어떻게 되시나요?22\n",
            "내년이면 23이 되시는군요\n"
          ]
        }
      ]
    },
    {
      "cell_type": "code",
      "source": [
        "#lab:bmi계산하기\n",
        "a=input(\"몸무게를 kg 단위로 입력하시오.\")\n",
        "b=input(\"키를 미터 단위로 입력하시오.\")\n",
        "print(f\"당신의 bmi={float(a)/float(b)**2}\")"
      ],
      "metadata": {
        "colab": {
          "base_uri": "https://localhost:8080/"
        },
        "id": "eHSo6_O5zN9q",
        "outputId": "dd35d41a-98d7-4830-b620-cbd9c7060aaa"
      },
      "execution_count": 7,
      "outputs": [
        {
          "output_type": "stream",
          "name": "stdout",
          "text": [
            "몸무게를 kg 단위로 입력하시오.85.0\n",
            "키를 미터 단위로 입력하시오.1.83\n",
            "당신의 bmi=25.381468541909282\n"
          ]
        }
      ]
    },
    {
      "cell_type": "code",
      "source": [
        "#lab:구의 부피 계산하기\n",
        "pi=3.14\n",
        "a=input(\"반지름을 입력하세요.\")\n",
        "print(f\"구의 부피={4/3*pi*float(a)**3}\")"
      ],
      "metadata": {
        "colab": {
          "base_uri": "https://localhost:8080/"
        },
        "id": "J6cWYwkjAgqT",
        "outputId": "39f1c76e-707d-417f-f745-5371c2e1dc72"
      },
      "execution_count": 10,
      "outputs": [
        {
          "output_type": "stream",
          "name": "stdout",
          "text": [
            "반지름을 입력하세요.5.0\n",
            "구의 부피=523.3333333333334\n"
          ]
        }
      ]
    },
    {
      "cell_type": "code",
      "source": [
        "#lab:자동판매기 프로그램\n",
        "price = int(input(\"물건값을 입력하시오: \"))\n",
        "n1000 = int(input(\" 1000원 지폐개수: \"))\n",
        "n500  = int(input(\" 500원 동전개수: \"))\n",
        "n100  = int(input(\" 100원 동전개수: \"))\n",
        "\n",
        "paid = 1000*n1000 + 500*n500 + 100*n100\n",
        "change = paid - price\n",
        "\n",
        "\n",
        "c500 = change // 500\n",
        "change %= 500\n",
        "c100 = change // 100\n",
        "change %= 100\n",
        "c10  = change // 10\n",
        "change %= 10\n",
        "c1   = change\n",
        "\n",
        "print(\"거스럼돈:\")  0\n",
        "\n",
        "print(f\" 500원= {c500} 100원= {c100} 10원= {c10} 1원= {c1}\")\n"
      ],
      "metadata": {
        "colab": {
          "base_uri": "https://localhost:8080/"
        },
        "id": "YlOLOqyDBph7",
        "outputId": "5f9359cd-6988-405c-df50-c6e9ec331107"
      },
      "execution_count": 11,
      "outputs": [
        {
          "output_type": "stream",
          "name": "stdout",
          "text": [
            "물건값을 입력하시오: 750\n",
            " 1000원 지폐개수: 1\n",
            " 500원 동전개수: 0\n",
            " 100원 동전개수: 0\n",
            "거스럼돈:\n",
            " 500원= 0 100원= 2 10원= 5 1원= 0\n"
          ]
        }
      ]
    }
  ]
}