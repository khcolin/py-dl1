{
  "nbformat": 4,
  "nbformat_minor": 0,
  "metadata": {
    "colab": {
      "provenance": [],
      "authorship_tag": "ABX9TyN/5JGFHqgimmNS8jGbNZ+U",
      "include_colab_link": true
    },
    "kernelspec": {
      "name": "python3",
      "display_name": "Python 3"
    },
    "language_info": {
      "name": "python"
    }
  },
  "cells": [
    {
      "cell_type": "markdown",
      "metadata": {
        "id": "view-in-github",
        "colab_type": "text"
      },
      "source": [
        "<a href=\"https://colab.research.google.com/github/khcolin/py-dl1/blob/main/%EA%B0%9D%EC%A7%80%ED%94%84%EA%B3%BC%EC%A0%9C2.ipynb\" target=\"_parent\"><img src=\"https://colab.research.google.com/assets/colab-badge.svg\" alt=\"Open In Colab\"/></a>"
      ]
    },
    {
      "cell_type": "code",
      "execution_count": 2,
      "metadata": {
        "colab": {
          "base_uri": "https://localhost:8080/"
        },
        "id": "98aWM6qx2NgQ",
        "outputId": "12aa6268-b49d-4b62-f63c-8e0688f861ce"
      },
      "outputs": [
        {
          "output_type": "stream",
          "name": "stdout",
          "text": [
            "프록시마 센타우리까지 시간은 4.227972264501945년이다\n"
          ]
        }
      ],
      "source": [
        "#lab:별까지의 거리 계산하기\n",
        "\n",
        "r = 40 * 10**12   #\n",
        "c = 300000\n",
        "year = 60 * 60 * 24 * 365\n",
        "ls = c * year\n",
        "time_years = r / ls\n",
        "print(f\"프록시마 센타우리까지 시간은 {time_years:.15f}년이다\")"
      ]
    }
  ]
}