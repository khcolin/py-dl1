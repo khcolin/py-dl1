{
  "nbformat": 4,
  "nbformat_minor": 0,
  "metadata": {
    "colab": {
      "provenance": [],
      "authorship_tag": "ABX9TyO4zunHV3CMGK9kNPU7lXmH",
      "include_colab_link": true
    },
    "kernelspec": {
      "name": "python3",
      "display_name": "Python 3"
    },
    "language_info": {
      "name": "python"
    }
  },
  "cells": [
    {
      "cell_type": "markdown",
      "metadata": {
        "id": "view-in-github",
        "colab_type": "text"
      },
      "source": [
        "<a href=\"https://colab.research.google.com/github/khcolin/py-dl1/blob/main/%EA%B0%9D%EC%A7%80%ED%94%84%EA%B3%BC%EC%A0%9C4.ipynb\" target=\"_parent\"><img src=\"https://colab.research.google.com/assets/colab-badge.svg\" alt=\"Open In Colab\"/></a>"
      ]
    },
    {
      "cell_type": "code",
      "execution_count": 1,
      "metadata": {
        "colab": {
          "base_uri": "https://localhost:8080/"
        },
        "id": "mAT4CCn2qbtl",
        "outputId": "3fe499fb-93d3-4210-dd8e-ae76c5c83273"
      },
      "outputs": [
        {
          "output_type": "stream",
          "name": "stdout",
          "text": [
            "정수 n을 입력하세요: 10\n",
            "10! = 3628800\n"
          ]
        }
      ],
      "source": [
        "#lab:팩토리얼 계산하기\n",
        "n = int(input(\"정수 n을 입력하세요: \"))\n",
        "\n",
        "result = 1\n",
        "for i in range(1, n + 1):\n",
        "    result *= i\n",
        "print(f\"{n}! = {result}\")\n"
      ]
    },
    {
      "cell_type": "code",
      "source": [
        "print(\"원하는 단은:9단\")\n",
        "for i in range(1,10):\n",
        "  print(f\"9*{i}=\",9*i)\n",
        ""
      ],
      "metadata": {
        "colab": {
          "base_uri": "https://localhost:8080/"
        },
        "id": "3ZGOWbSVrOee",
        "outputId": "a0424041-75f0-476d-9b5b-2bed6d704e0c"
      },
      "execution_count": 3,
      "outputs": [
        {
          "output_type": "stream",
          "name": "stdout",
          "text": [
            "원하는 단은 9단\n",
            "9*1= 9\n",
            "9*2= 18\n",
            "9*3= 27\n",
            "9*4= 36\n",
            "9*5= 45\n",
            "9*6= 54\n",
            "9*7= 63\n",
            "9*8= 72\n",
            "9*9= 81\n"
          ]
        }
      ]
    },
    {
      "cell_type": "code",
      "source": [
        "import random\n",
        "\n",
        "secret = random.randint(1, 100)\n",
        "print(\"숫자 맞히기 게임을 시작합니다! (1~100 사이)\")\n",
        "\n",
        "for attempt in range(1, 999999999):\n",
        "    guess = int(input(\"정수를 입력하세요: \"))\n",
        "\n",
        "    if guess > secret:\n",
        "        print(\"너무 큽니다!\")\n",
        "        11\n",
        "    elif guess < secret:\n",
        "        print(\"너무 작습니다!\")\n",
        "    else:\n",
        "        print(f\"정답입니다! {attempt}번 만에 맞히셨습니다.\")\n",
        "        break"
      ],
      "metadata": {
        "colab": {
          "base_uri": "https://localhost:8080/"
        },
        "id": "TwBOUItIrzdl",
        "outputId": "7a7b3ecf-816c-46db-85e2-7df9bebb282f"
      },
      "execution_count": 5,
      "outputs": [
        {
          "output_type": "stream",
          "name": "stdout",
          "text": [
            "숫자 맞히기 게임을 시작합니다! (1~100 사이)\n",
            "정수를 입력하세요: 23\n",
            "너무 큽니다!\n",
            "정수를 입력하세요: 12\n",
            "너무 작습니다!\n",
            "정수를 입력하세요: 14\n",
            "정답입니다! 3번 만에 맞히셨습니다.\n"
          ]
        }
      ]
    },
    {
      "cell_type": "code",
      "source": [
        "#lab:주사위 합이 6이 되는 경우\n",
        "for dice1 in range(1, 7):\n",
        "    for dice2 in range(1, 7):\n",
        "        if dice1 + dice2 == 6:\n",
        "            print(f\"첫번째 주사위={dice1},두번째 주사위= {dice2}\")"
      ],
      "metadata": {
        "colab": {
          "base_uri": "https://localhost:8080/"
        },
        "id": "oM6ULQoKtAYm",
        "outputId": "6e9975ec-db96-491b-942c-4a46cd8894b4"
      },
      "execution_count": 8,
      "outputs": [
        {
          "output_type": "stream",
          "name": "stdout",
          "text": [
            "첫번째 주사위=1,두번째 주사위= 5\n",
            "첫번째 주사위=2,두번째 주사위= 4\n",
            "첫번째 주사위=3,두번째 주사위= 3\n",
            "첫번째 주사위=4,두번째 주사위= 2\n",
            "첫번째 주사위=5,두번째 주사위= 1\n"
          ]
        }
      ]
    },
    {
      "cell_type": "code",
      "source": [
        "#lab:파이 계산하기\n",
        "n = int(input(\"계산에 사용할 항 개수 n을 입력하세요: \"))\n",
        "s = 0.0\n",
        "sign = 1.0\n",
        "for k in range(n):\n",
        "    s += sign / (2 * k + 1)\n",
        "    sign = -sign\n",
        "pi_est = 4 * s\n",
        "print(\"반복회수=\",n, pi_est)"
      ],
      "metadata": {
        "colab": {
          "base_uri": "https://localhost:8080/"
        },
        "id": "U3BZbhpItKKa",
        "outputId": "1396c82a-e612-4aef-b238-90d426798d26"
      },
      "execution_count": 11,
      "outputs": [
        {
          "output_type": "stream",
          "name": "stdout",
          "text": [
            "계산에 사용할 항 개수 n을 입력하세요: 10000\n",
            "반복회수= 10000 3.1414926535900345\n"
          ]
        }
      ]
    },
    {
      "cell_type": "code",
      "source": [
        "#lab:소수 찾기\n",
        "for num in range(2, 51):\n",
        "    is_prime = True\n",
        "    for i in range(2, int(num ** 0.5) + 1):\n",
        "        if num % i == 0:\n",
        "            is_prime = False\n",
        "            break\n",
        "    if is_prime:\n",
        "        print(num, end=\" \")\n"
      ],
      "metadata": {
        "colab": {
          "base_uri": "https://localhost:8080/"
        },
        "id": "6Kays63Kucen",
        "outputId": "dc0c8eee-b200-4369-f904-13af99e471f0"
      },
      "execution_count": 13,
      "outputs": [
        {
          "output_type": "stream",
          "name": "stdout",
          "text": [
            "2 3 5 7 11 13 17 19 23 29 31 37 41 43 47 "
          ]
        }
      ]
    }
  ]
}