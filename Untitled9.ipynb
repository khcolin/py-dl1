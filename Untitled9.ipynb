{
  "nbformat": 4,
  "nbformat_minor": 0,
  "metadata": {
    "colab": {
      "provenance": [],
      "authorship_tag": "ABX9TyNo1Pnq8KPxYT7v1rm8jtHL",
      "include_colab_link": true
    },
    "kernelspec": {
      "name": "python3",
      "display_name": "Python 3"
    },
    "language_info": {
      "name": "python"
    }
  },
  "cells": [
    {
      "cell_type": "markdown",
      "metadata": {
        "id": "view-in-github",
        "colab_type": "text"
      },
      "source": [
        "<a href=\"https://colab.research.google.com/github/khcolin/py-dl1/blob/main/Untitled9.ipynb\" target=\"_parent\"><img src=\"https://colab.research.google.com/assets/colab-badge.svg\" alt=\"Open In Colab\"/></a>"
      ]
    },
    {
      "cell_type": "code",
      "execution_count": null,
      "metadata": {
        "id": "lAb163IOdC3D"
      },
      "outputs": [],
      "source": [
        "#10-1.\n",
        "from sklearn.datasets import load_iris\n",
        "from sklearn.model_selection import train_test_split\n",
        "from sklearn.neighbors import KNeighborsClassifier\n",
        "\n",
        "iris = load_iris()\n",
        "\n",
        "print(iris.DESCR)\n",
        "print(iris.keys())\n",
        "\n",
        "# train_test_split에 올바른 인자 추가\n",
        "train_data, test_data, train_target, test_target = train_test_split(\n",
        "    iris.data, iris.target, random_state=24)\n",
        "\n",
        "# 다양한 이웃 수에 따른 성능 비교\n",
        "for n in [1, 3, 5, 7, 9]:\n",
        "    kn = KNeighborsClassifier(n_neighbors=n)\n",
        "    kn.fit(train_data, train_target)\n",
        "    print('neighbor', n, 'train score is', kn.score(train_data, train_target))\n",
        "    print('neighbor', n, 'test score is', kn.score(test_data, test_target))"
      ]
    },
    {
      "cell_type": "code",
      "source": [
        "#10-2.\n",
        "from sklearn import datasets\n",
        "iris = datasets.load_iris()\n",
        "X = iris[\"data\"]    #모든 특성 사용, Petal length, width만 사용하고 싶으면 iris[\"data\"][:, (2, 3)]\n",
        "y = iris[\"target\"]\n",
        "from sklearn.model_selection import train_test_split\n",
        "X_train, X_test, y_train, y_test  = train_test_split(X, y, test_size=0.2, stratify = y)\n",
        "from sklearn.linear_model import LogisticRegression\n",
        "softmax_reg = LogisticRegression(multi_class=\"multinomial\", C=1000, max_iter=1000, random_state=42)\n",
        "softmax_reg.fit(X_train, y_train)\n",
        "print(softmax_reg.score(X_train, y_train))\n",
        "print(softmax_reg.score(X_test, y_test))\n",
        "import numpy as np\n",
        "new_set = np.array([6, 3, 4.5, 2]).reshape(1, -1) # 이 코드도 잘 보아두도록 합시다.\n",
        "\n",
        "print(softmax_reg.predict(new_set))\n",
        "print(softmax_reg.predict_proba(new_set))"
      ],
      "metadata": {
        "id": "oWIkXwP3dbMQ"
      },
      "execution_count": null,
      "outputs": []
    },
    {
      "cell_type": "code",
      "source": [
        "#10-3.\n",
        "from sklearn.datasets import load_digits\n",
        "from sklearn.model_selection import train_test_split\n",
        "from sklearn.linear_model import SGDClassifier, LogisticRegression\n",
        "from sklearn.neighbors import KNeighborsClassifier\n",
        "from sklearn.metrics import classification_report\n",
        "\n",
        "digits = load_digits()\n",
        "X = digits[\"data\"]\n",
        "y = digits[\"target\"]\n",
        "\n",
        "print(digits.data.shape)\n",
        "\n",
        "X_train, X_test, y_train, y_test  = train_test_split(X, y, test_size=0.3, stratify=y, random_state=42)\n",
        "\n",
        "# SGD Classifier\n",
        "sc = SGDClassifier(loss='log_loss', max_iter=1000, tol=None, random_state=42)\n",
        "sc.fit(X_train, y_train)\n",
        "print(sc.score(X_train, y_train))\n",
        "print(sc.score(X_test, y_test))\n",
        "\n",
        "# KNN\n",
        "kn = KNeighborsClassifier()\n",
        "kn.fit(X_train, y_train)\n",
        "print(kn.score(X_train, y_train))\n",
        "print(kn.score(X_test, y_test))\n",
        "\n",
        "# Softmax Regression\n",
        "softmax_reg = LogisticRegression(multi_class=\"multinomial\", C=0.01, max_iter=2000, random_state=42)\n",
        "softmax_reg.fit(X_train, y_train)\n",
        "print(softmax_reg.score(X_train, y_train))\n",
        "print(softmax_reg.score(X_test, y_test))\n",
        "\n",
        "# KNN 훈련 예측 결과 평가\n",
        "y_train_pred = kn.predict(X_train)\n",
        "print(classification_report(y_train, y_train_pred))"
      ],
      "metadata": {
        "id": "0HjffmJ6dbOt"
      },
      "execution_count": null,
      "outputs": []
    },
    {
      "cell_type": "code",
      "source": [
        "#10-4.\n",
        "from sklearn.datasets import fetch_openml\n",
        "mnist = fetch_openml('mnist_784', version= 1, as_frame= False) #사이킷런 버전업에 따라 디폴트가 데이터 프레임이라 해제해야 array로 읽음.\n",
        "mnist.data.shape, mnist.target.shape\n",
        "X, y = mnist[\"data\"], mnist[\"target\"]\n",
        "y\n",
        "y=y.astype(int)\n",
        "X_train, X_test, y_train, y_test = X[:60000], X[60000:], y[:60000], y[60000:]\n",
        "shuffle_index = np.random.permutation(60000)\n",
        "X_train, y_train = X_train[shuffle_index], y_train[shuffle_index]\n",
        "from sklearn.linear_model import SGDClassifier\n",
        "from sklearn.linear_model import LogisticRegression\n",
        "softmax_reg = LogisticRegression(multi_class=\"multinomial\", C=1, max_iter=500, random_state=42)\n",
        "softmax_reg.fit(X_train, y_train)\n",
        "print(softmax_reg.score(X_train, y_train))\n",
        "print(softmax_reg.score(X_test, y_test))\n",
        "sc = SGDClassifier(loss='log_loss', max_iter=100, tol=None, random_state=42)\n",
        "sc.fit(X_train, y_train)\n",
        "\n",
        "print(sc.score(X_train, y_train))\n",
        "print(sc.score(X_test, y_test))\n",
        "from sklearn.metrics import confusion_matrix\n",
        "y_test_pred_soft = softmax_reg.predict(X_test)\n",
        "y_test_pred_sgd = sc.predict(X_test)\n",
        "print(confusion_matrix(y_test, y_test_pred_soft))\n",
        "print(confusion_matrix(y_test, y_test_pred_sgd))"
      ],
      "metadata": {
        "id": "s-rgDWegdbRC"
      },
      "execution_count": null,
      "outputs": []
    },
    {
      "cell_type": "code",
      "source": [],
      "metadata": {
        "id": "d5oJGtHvdbTe"
      },
      "execution_count": null,
      "outputs": []
    },
    {
      "cell_type": "code",
      "source": [],
      "metadata": {
        "id": "BxFLRF25dbVc"
      },
      "execution_count": null,
      "outputs": []
    }
  ]
}