{
  "nbformat": 4,
  "nbformat_minor": 0,
  "metadata": {
    "colab": {
      "provenance": [],
      "authorship_tag": "ABX9TyMQuYLsn1cNOM+JeYg72VPq",
      "include_colab_link": true
    },
    "kernelspec": {
      "name": "python3",
      "display_name": "Python 3"
    },
    "language_info": {
      "name": "python"
    }
  },
  "cells": [
    {
      "cell_type": "markdown",
      "metadata": {
        "id": "view-in-github",
        "colab_type": "text"
      },
      "source": [
        "<a href=\"https://colab.research.google.com/github/khcolin/py-dl1/blob/main/Untitled8.ipynb\" target=\"_parent\"><img src=\"https://colab.research.google.com/assets/colab-badge.svg\" alt=\"Open In Colab\"/></a>"
      ]
    },
    {
      "cell_type": "code",
      "execution_count": null,
      "metadata": {
        "id": "3kfWQAxVxbDH"
      },
      "outputs": [],
      "source": [
        "#9-1.\n",
        "# k-최근접 이웃 회귀 객체를 만듭니다\n",
        "knr = KNeighborsRegressor()\n",
        "# 5에서 45까지 x 좌표를 만듭니다\n",
        "x = np.arange(5, 45).reshape(-1, 1)\n",
        "\n",
        "# n = 1, 5, 10일 때 예측 결과를 그래프로 그립니다.\n",
        "for n in [1, 5, 10, 41]:\n",
        "    # 모델 훈련\n",
        "    knr.n_neighbors = n\n",
        "    knr.fit(train_input,train_target) #여기를 채우시오.\n",
        "    # 지정한 범위 x에 대한 예측 구하기\n",
        "    prediction = knr.predict(x )#여기를 채우시오.\n",
        "    # 훈련 세트와 예측 결과 그래프 그리기\n",
        "    plt.scatter(train_input, train_target)\n",
        "    plt.plot(x, prediction)\n",
        "    plt.title('n_neighbors = {}'.format(n))\n",
        "    plt.xlabel('length')\n",
        "    plt.ylabel('weight')\n",
        "    plt.show()"
      ]
    },
    {
      "cell_type": "code",
      "source": [
        "#9-2.\n",
        "print( print(lr.predict([[100]]))        )#여기를 채우시오."
      ],
      "metadata": {
        "id": "xycZFlQS15gp"
      },
      "execution_count": null,
      "outputs": []
    },
    {
      "cell_type": "code",
      "source": [
        "\n",
        "#9-3.\n",
        "np.random.seed(42)\n",
        "X = 3*np.random.rand(100, 1)\n",
        "y = 5+ 4*X +2*X**2 +X**3 +np.random.randn(100, 1)\n",
        "\n",
        "# 그림을 그려보자.\n",
        "plt.scatter(X, y)\n",
        "plt.xlabel('X')\n",
        "plt.ylabel('y')\n",
        "plt.show()\n",
        "\n",
        "X_train, X_test, y_train, y_test = train_test_split(X, y, random_state=200)\n",
        "\n",
        "#다음 코드를 완성해보자.\n",
        "train_poly = np.column_stack((X_train**3,X_train**2,X_train    ))#여기를 채우시오.\n",
        "test_poly = np.column_stack((X_test**3,X_test**2,X_test   ))#여기를 채우시오.\n",
        "\n",
        "print(train_poly.shape)\n",
        "\n",
        "from sklearn.linear_model import LinearRegression\n",
        "lr = LinearRegression()\n",
        "\n",
        "# 훈련을 시키고 계수를 알아보자.\n",
        "lr.fit( train_poly,y_train     )#여기를 채우시오.\n",
        "print(lr.coef_, lr.intercept_)\n",
        "#테스트 셋에 적용을 시켜보자.\n",
        "prediction = lr.predict( test_poly       )#여기를 채우시오.\n",
        "print(lr.score(test_poly, y_test))"
      ],
      "metadata": {
        "colab": {
          "base_uri": "https://localhost:8080/",
          "height": 224
        },
        "id": "mmlpv93R15p4",
        "outputId": "56a15f64-83d1-4abc-9577-05ee6f44b261"
      },
      "execution_count": null,
      "outputs": [
        {
          "output_type": "error",
          "ename": "NameError",
          "evalue": "name 'np' is not defined",
          "traceback": [
            "\u001b[0;31m---------------------------------------------------------------------------\u001b[0m",
            "\u001b[0;31mNameError\u001b[0m                                 Traceback (most recent call last)",
            "\u001b[0;32m<ipython-input-2-fafa5f6eade5>\u001b[0m in \u001b[0;36m<cell line: 0>\u001b[0;34m()\u001b[0m\n\u001b[1;32m      1\u001b[0m \u001b[0;31m#9-3.\u001b[0m\u001b[0;34m\u001b[0m\u001b[0;34m\u001b[0m\u001b[0m\n\u001b[0;32m----> 2\u001b[0;31m \u001b[0mnp\u001b[0m\u001b[0;34m.\u001b[0m\u001b[0mrandom\u001b[0m\u001b[0;34m.\u001b[0m\u001b[0mseed\u001b[0m\u001b[0;34m(\u001b[0m\u001b[0;36m42\u001b[0m\u001b[0;34m)\u001b[0m\u001b[0;34m\u001b[0m\u001b[0;34m\u001b[0m\u001b[0m\n\u001b[0m\u001b[1;32m      3\u001b[0m \u001b[0mX\u001b[0m \u001b[0;34m=\u001b[0m \u001b[0;36m3\u001b[0m\u001b[0;34m*\u001b[0m\u001b[0mnp\u001b[0m\u001b[0;34m.\u001b[0m\u001b[0mrandom\u001b[0m\u001b[0;34m.\u001b[0m\u001b[0mrand\u001b[0m\u001b[0;34m(\u001b[0m\u001b[0;36m100\u001b[0m\u001b[0;34m,\u001b[0m \u001b[0;36m1\u001b[0m\u001b[0;34m)\u001b[0m\u001b[0;34m\u001b[0m\u001b[0;34m\u001b[0m\u001b[0m\n\u001b[1;32m      4\u001b[0m \u001b[0my\u001b[0m \u001b[0;34m=\u001b[0m \u001b[0;36m5\u001b[0m\u001b[0;34m+\u001b[0m \u001b[0;36m4\u001b[0m\u001b[0;34m*\u001b[0m\u001b[0mX\u001b[0m \u001b[0;34m+\u001b[0m\u001b[0;36m2\u001b[0m\u001b[0;34m*\u001b[0m\u001b[0mX\u001b[0m\u001b[0;34m**\u001b[0m\u001b[0;36m2\u001b[0m \u001b[0;34m+\u001b[0m\u001b[0mX\u001b[0m\u001b[0;34m**\u001b[0m\u001b[0;36m3\u001b[0m \u001b[0;34m+\u001b[0m\u001b[0mnp\u001b[0m\u001b[0;34m.\u001b[0m\u001b[0mrandom\u001b[0m\u001b[0;34m.\u001b[0m\u001b[0mrandn\u001b[0m\u001b[0;34m(\u001b[0m\u001b[0;36m100\u001b[0m\u001b[0;34m,\u001b[0m \u001b[0;36m1\u001b[0m\u001b[0;34m)\u001b[0m\u001b[0;34m\u001b[0m\u001b[0;34m\u001b[0m\u001b[0m\n\u001b[1;32m      5\u001b[0m \u001b[0;34m\u001b[0m\u001b[0m\n",
            "\u001b[0;31mNameError\u001b[0m: name 'np' is not defined"
          ]
        }
      ]
    },
    {
      "cell_type": "code",
      "source": [
        "#9-4(1).\n",
        "import numpy as np\n",
        "import matplotlib.pyplot as plt\n",
        "from sklearn.svm import SVR\n",
        "\n",
        "# generate synthetic data\n",
        "X = np.sort(5 * np.random.rand(40, 1),\n",
        "            axis=0)\n",
        "y = np.sin(X).ravel() # ravel 함수는 reshape와 반대로 평평하게 펴주는 것입니다.\n",
        "\n",
        "# add some noise to the data\n",
        "y[::5] += 3 * (0.5 - np.random.rand(8))\n",
        "\n",
        "# create an SVR model with a linear kernel\n",
        "svr = SVR(kernel='linear')\n",
        "\n",
        "# train the model on the data\n",
        "svr. fit(X,y)      #여기를 채우시오.\n",
        "\n",
        "# make predictions on the data\n",
        "y_pred = svr.predict(X) #여기를 채우시오.\n",
        "\n",
        "# plot the predicted values against the true values\n",
        "plt.scatter(X, y, color='darkorange',\n",
        "            label='data')\n",
        "plt.plot(X, y_pred, color='cornflowerblue',\n",
        "         label='prediction')\n",
        "plt.legend()\n",
        "plt.show()"
      ],
      "metadata": {
        "id": "eeGoQVLP15sn"
      },
      "execution_count": null,
      "outputs": []
    },
    {
      "cell_type": "code",
      "source": [
        "#9-4(2).\n",
        "import numpy as np\n",
        "import matplotlib.pyplot as plt\n",
        "from sklearn.svm import SVR\n",
        "\n",
        "# generate synthetic data\n",
        "X = np.sort(5 * np.random.rand(40, 1), axis=0)\n",
        "y = np.sin(X).ravel()\n",
        "\n",
        "# add some noise to the data\n",
        "y[::5] += 3 * (0.5 - np.random.rand(8))\n",
        "\n",
        "# create an SVR model with a radial basis function (rbf) kernel\n",
        "svr = SVR(kernel='rbf')\n",
        "\n",
        "# train the model on the data\n",
        "svr.fit(X, y)  # <- 빈칸 1\n",
        "\n",
        "# make predictions on the data\n",
        "y_pred = svr.predict(X)  # <- 빈칸 2\n",
        "\n",
        "# plot the predicted values against the true values\n",
        "plt.scatter(X, y, color='darkorange', label='data')\n",
        "plt.plot(X, y_pred, color='cornflowerblue', label='prediction')\n",
        "plt.legend()\n",
        "plt.show()\n"
      ],
      "metadata": {
        "id": "6zIBvgMS15zg"
      },
      "execution_count": null,
      "outputs": []
    },
    {
      "cell_type": "code",
      "source": [],
      "metadata": {
        "id": "SP0b-PMs152Y"
      },
      "execution_count": null,
      "outputs": []
    }
  ]
}