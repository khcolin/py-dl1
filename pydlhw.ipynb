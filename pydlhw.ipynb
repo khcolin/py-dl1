{
  "nbformat": 4,
  "nbformat_minor": 0,
  "metadata": {
    "colab": {
      "provenance": [],
      "authorship_tag": "ABX9TyM45FwIcBc2KJF+AMeDWw+v",
      "include_colab_link": true
    },
    "kernelspec": {
      "name": "python3",
      "display_name": "Python 3"
    },
    "language_info": {
      "name": "python"
    }
  },
  "cells": [
    {
      "cell_type": "markdown",
      "metadata": {
        "id": "view-in-github",
        "colab_type": "text"
      },
      "source": [
        "<a href=\"https://colab.research.google.com/github/khcolin/py-dl1/blob/main/pydlhw.ipynb\" target=\"_parent\"><img src=\"https://colab.research.google.com/assets/colab-badge.svg\" alt=\"Open In Colab\"/></a>"
      ]
    },
    {
      "cell_type": "code",
      "execution_count": 1,
      "metadata": {
        "colab": {
          "base_uri": "https://localhost:8080/"
        },
        "id": "Y3WN0iAabMnU",
        "outputId": "2f13aa09-9f41-4d9b-eba6-773fa113f8eb"
      },
      "outputs": [
        {
          "output_type": "stream",
          "name": "stdout",
          "text": [
            "자연수를 입력하세요.23\n",
            "23 은 홀수입니다.\n"
          ]
        }
      ],
      "source": [
        "number=int(input(\"자연수를 입력하세요.\"))\n",
        "if number%2==1:\n",
        "  print(number,\"은 홀수입니다.\")\n",
        "if number%2==0:\n",
        "  print(number,\"은 짝수입니다.\")"
      ]
    }
  ]
}