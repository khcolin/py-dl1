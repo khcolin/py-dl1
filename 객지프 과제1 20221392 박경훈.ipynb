{
  "nbformat": 4,
  "nbformat_minor": 0,
  "metadata": {
    "colab": {
      "provenance": [],
      "authorship_tag": "ABX9TyPQQJQAdth9HIqK+6khQfet",
      "include_colab_link": true
    },
    "kernelspec": {
      "name": "python3",
      "display_name": "Python 3"
    },
    "language_info": {
      "name": "python"
    }
  },
  "cells": [
    {
      "cell_type": "markdown",
      "metadata": {
        "id": "view-in-github",
        "colab_type": "text"
      },
      "source": [
        "<a href=\"https://colab.research.google.com/github/khcolin/py-dl1/blob/main/%EA%B0%9D%EC%A7%80%ED%94%84%20%EA%B3%BC%EC%A0%9C1%2020221392%20%EB%B0%95%EA%B2%BD%ED%9B%88.ipynb\" target=\"_parent\"><img src=\"https://colab.research.google.com/assets/colab-badge.svg\" alt=\"Open In Colab\"/></a>"
      ]
    },
    {
      "cell_type": "code",
      "execution_count": 2,
      "metadata": {
        "colab": {
          "base_uri": "https://localhost:8080/"
        },
        "id": "E3ieVs_ORxKG",
        "outputId": "9c3c7a06-fad6-4c38-fc53-c432be77155e"
      },
      "outputs": [
        {
          "output_type": "stream",
          "name": "stdout",
          "text": [
            "파이썬에 오신 것을 환영합니다.\n",
            "파이썬은 쉽습니다.\n",
            "파이썬으로 빅데이터, 인공지능 프로그램을 작성할 수 있습니다.\n"
          ]
        }
      ],
      "source": [
        "#lab:print()함수 실습\n",
        "print(\"파이썬에 오신 것을 환영합니다.\")\n",
        "print(\"파이썬은 쉽습니다.\")\n",
        "print(\"파이썬으로 빅데이터, 인공지능 프로그램을 작성할 수 있습니다.\")"
      ]
    },
    {
      "cell_type": "code",
      "source": [
        "#lab:간단한 계산\n",
        "print(2+3)\n",
        "print(2-3)\n",
        "print(2*3)\n",
        "print(2/3)"
      ],
      "metadata": {
        "colab": {
          "base_uri": "https://localhost:8080/"
        },
        "id": "nLD3ITgWSlsr",
        "outputId": "0e98f056-0057-4e87-c1ee-0a78050afa0d"
      },
      "execution_count": 3,
      "outputs": [
        {
          "output_type": "stream",
          "name": "stdout",
          "text": [
            "5\n",
            "-1\n",
            "6\n",
            "0.6666666666666666\n"
          ]
        }
      ]
    },
    {
      "cell_type": "code",
      "source": [
        "#lab:오류를 처리해보자\n",
        "print(\"안녕하세요?\")\n",
        "print(\"이번 코드에는 많은 오류가 있다네요\")\n",
        "print(\"제가 다 고쳐 보겠습니다.\")"
      ],
      "metadata": {
        "colab": {
          "base_uri": "https://localhost:8080/"
        },
        "id": "e26EBjm5Sn5j",
        "outputId": "d5897dc9-1d99-44fa-de95-20cfba7c48fc"
      },
      "execution_count": 4,
      "outputs": [
        {
          "output_type": "stream",
          "name": "stdout",
          "text": [
            "안녕하세요?\n",
            "이번 코드에는 많은 오류가 있다네요\n",
            "제가 다 고쳐 보겠습니다.\n"
          ]
        }
      ]
    }
  ]
}