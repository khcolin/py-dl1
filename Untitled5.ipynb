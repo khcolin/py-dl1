{
  "nbformat": 4,
  "nbformat_minor": 0,
  "metadata": {
    "colab": {
      "provenance": [],
      "authorship_tag": "ABX9TyOATFDZTew0ieuoaOrI/2Ox",
      "include_colab_link": true
    },
    "kernelspec": {
      "name": "python3",
      "display_name": "Python 3"
    },
    "language_info": {
      "name": "python"
    }
  },
  "cells": [
    {
      "cell_type": "markdown",
      "metadata": {
        "id": "view-in-github",
        "colab_type": "text"
      },
      "source": [
        "<a href=\"https://colab.research.google.com/github/khcolin/py-dl1/blob/main/Untitled5.ipynb\" target=\"_parent\"><img src=\"https://colab.research.google.com/assets/colab-badge.svg\" alt=\"Open In Colab\"/></a>"
      ]
    },
    {
      "cell_type": "code",
      "execution_count": null,
      "metadata": {
        "colab": {
          "base_uri": "https://localhost:8080/"
        },
        "id": "whk7uHKhcZJC",
        "outputId": "1421e1d1-ff9e-478e-edf2-2742d768f60c"
      },
      "outputs": [
        {
          "output_type": "execute_result",
          "data": {
            "text/plain": [
              "<__main__.Coordinate at 0x7b260d5b2650>"
            ]
          },
          "metadata": {},
          "execution_count": 1
        }
      ],
      "source": [
        "#5-1.\n",
        "class Coordinate :\n",
        "    \"\"\" 좌표를 나타내는 클래스 \"\"\"\n",
        "    x=0\n",
        "    y=0\n",
        "point_a = Coordinate()\n",
        "point_a"
      ]
    },
    {
      "cell_type": "code",
      "source": [
        "#5-2.\n",
        "point_1 = Coordinate()\n",
        "point_2 = Coordinate()\n",
        "point_1.x = -1             # point_1의 x속성 설정\n",
        "point_1.y = 2               # point_1의 y속성 설정\n",
        "point_2.x=2             # point_2의 x속성 설정\n",
        "point_2.y=3            # point_2의 y속성 설정"
      ],
      "metadata": {
        "id": "HW0qyzXLdlzn"
      },
      "execution_count": null,
      "outputs": []
    },
    {
      "cell_type": "code",
      "source": [
        "#5-3.\n",
        "import math\n",
        "class Coordinate:\n",
        "    x = 0\n",
        "    y = 0\n",
        "\n",
        "def square(x):\n",
        "    return x*x\n",
        "\n",
        "def distance(point_a,point_b):\n",
        "    return  math.sqrt(square(point_a.x-point_b.x)+square(point_a.y-point_b.y))             #위의 함수를 참고하여 두 점 사이 거리 함수 완성\n",
        "\n",
        "point_1 = Coordinate()\n",
        "point_2 = Coordinate()\n",
        "\n",
        "point_1.x = -1\n",
        "point_1.y = 2\n",
        "\n",
        "point_2.x=2\n",
        "point_2.y=3\n",
        "\n",
        "print(distance(  point_1,point_2     ))  #함수 호출 인자를 넣기"
      ],
      "metadata": {
        "colab": {
          "base_uri": "https://localhost:8080/"
        },
        "id": "Zhf9iKQkfxb3",
        "outputId": "dfc789ed-422a-4545-c94a-b9847cb81455"
      },
      "execution_count": null,
      "outputs": [
        {
          "output_type": "stream",
          "name": "stdout",
          "text": [
            "3.1622776601683795\n"
          ]
        }
      ]
    },
    {
      "cell_type": "code",
      "source": [
        "#5-4.\n",
        "class Coordinate:\n",
        "    x = 0\n",
        "    y = 0\n",
        "    def distance(self, point_b):   #앞서 정의한 함수를 메서드로 만들기\n",
        "        return math.sqrt(square( self.x-point_b.x    ) + square(self.y-point_b.y      ))   #인자 넣기\n",
        "\n",
        "point_1 = Coordinate()\n",
        "point_2 = Coordinate()\n",
        "\n",
        "point_1.x = -1\n",
        "point_1.y = 2\n",
        "\n",
        "point_2.x=2\n",
        "point_2.y=3\n",
        "print( point_1.distance(point_2)          )   #메서드 호출 출력하기"
      ],
      "metadata": {
        "id": "eFPGy_a_lZ6P"
      },
      "execution_count": null,
      "outputs": []
    },
    {
      "cell_type": "code",
      "source": [
        "#5-5.\n",
        "class Coordinate:\n",
        "\n",
        "    def __init__(self,x=0,y=0     ):   # x=0, y=0으로 초기화하기\n",
        "        self.x=x\n",
        "        self.y=y\n",
        "    def distance(self, point_b):\n",
        "        return math.sqrt(square(self.x - point_b.x) + square(self.y - point_b.y))\n",
        "\n",
        "\n",
        "point_1 = Coordinate(-1, 2)\n",
        "point_2 = Coordinate(y=3, x=2)\n",
        "point_3 = Coordinate()\n",
        "point_4 = Coordinate(10)\n",
        "print(point_1.x, point_1.y)\n",
        "print(point_2.x, point_2.y)\n",
        "print(point_3.x, point_3.y)\n",
        "print(point_4.x, point_4.y)\n",
        "point_1.distance(point_2)\n"
      ],
      "metadata": {
        "colab": {
          "base_uri": "https://localhost:8080/"
        },
        "id": "Pg_BYIuqnGMP",
        "outputId": "42954942-1d59-46c8-baac-da7b61b6bb1e"
      },
      "execution_count": null,
      "outputs": [
        {
          "output_type": "stream",
          "name": "stdout",
          "text": [
            "-1 2\n",
            "2 3\n",
            "0 0\n",
            "10 0\n"
          ]
        },
        {
          "output_type": "execute_result",
          "data": {
            "text/plain": [
              "3.1622776601683795"
            ]
          },
          "metadata": {},
          "execution_count": 3
        }
      ]
    },
    {
      "cell_type": "code",
      "source": [
        "#5-6.\n",
        "class FourCal:\n",
        "    a=0\n",
        "    b=0\n",
        "\n",
        "    def setdata(   self,a,b   ):  #괄호안에 들어갈 인자는\n",
        "        self.a=a\n",
        "        self.b=b\n",
        "    def add(self):\n",
        "        return self.a + self.b\n",
        "\n",
        "    def sub(self):\n",
        "        return self.a - self.b\n",
        "\n",
        "    def mul(self):\n",
        "        return self.a * self.b\n",
        "\n",
        "    def div(self):\n",
        "        return self.a/self.b"
      ],
      "metadata": {
        "id": "ERgww8iMpcNW"
      },
      "execution_count": null,
      "outputs": []
    },
    {
      "cell_type": "code",
      "source": [
        "#5-7.\n",
        "class myClass:\n",
        "  def __init__(self,a,b,h):\n",
        "    a=0\n",
        "    b=0\n",
        "    h=0\n",
        "\n",
        "  def volume(self):\n",
        "        return self.a * self.b * self.h\n",
        "\n",
        "  def surface(self):\n",
        "        return 2*(self.a*self.b +self.a* self.h+self.b * self.h)\n",
        "\n",
        "ex1 = myClass(10,20,30)\n",
        "ex1.a = 10\n",
        "ex1.b = 20\n",
        "ex1.h = 30\n",
        "print(  ex1.volume()   )  #인스턴스 ex1의 volume 구하기\n",
        "print(  ex1.surface()   )  #인스턴스 ex2의 겉넓이 구하기\n",
        "\n",
        "ex2 = myClass(15,40,40)\n",
        "ex2.a = 15\n",
        "ex2.b = 40\n",
        "ex2.h = 40\n",
        "print(ex2.volume()    )\n",
        "print(ex2.surface()    )"
      ],
      "metadata": {
        "colab": {
          "base_uri": "https://localhost:8080/"
        },
        "id": "WVwgtjHWpflV",
        "outputId": "22cc9bd0-d65f-4591-87a2-310c7dbf0532"
      },
      "execution_count": 4,
      "outputs": [
        {
          "output_type": "stream",
          "name": "stdout",
          "text": [
            "6000\n",
            "2200\n",
            "24000\n",
            "5600\n"
          ]
        }
      ]
    },
    {
      "cell_type": "code",
      "source": [
        "#5-8.\n",
        "class Shape:\n",
        "\n",
        "    sides = 0\n",
        "    def describe(self):\n",
        "        print(\"이 도형은 %d개의 변을 갖고 있습니다.\"%self.sides )\n",
        "\n",
        "class Triangle(Shape):\n",
        "    sides    =3               # sides를 정의한다. 이 부분을 채우시오.\n",
        "\n",
        "class Rectangle(Shape):\n",
        "  sides=4\n",
        "\n",
        "\n",
        "shapes = [\n",
        "    Triangle(),\n",
        "    Rectangle(),\n",
        "]\n",
        "for shape in shapes:\n",
        "    shape.describe()\n"
      ],
      "metadata": {
        "colab": {
          "base_uri": "https://localhost:8080/"
        },
        "id": "2v_fSSYate4v",
        "outputId": "d8bab87d-f1ff-4608-f37b-4484176b4230"
      },
      "execution_count": null,
      "outputs": [
        {
          "output_type": "stream",
          "name": "stdout",
          "text": [
            "이 도형은 3개의 변을 갖고 있습니다.\n",
            "이 도형은 4개의 변을 갖고 있습니다.\n"
          ]
        }
      ]
    },
    {
      "cell_type": "code",
      "source": [
        "#5-9.\n",
        "import math\n",
        "\n",
        "def square(x):\n",
        "    return x*x\n",
        "\n",
        "def distance(point_a,point_b):\n",
        "    return math.sqrt(square(point_a.x - point_b.x) + square(point_a.y - point_b.y))\n",
        "\n",
        "\n",
        "class Coordinate:\n",
        "    x = 0\n",
        "    y = 0\n",
        "    def __init__(self, x=0, y=0):\n",
        "        self.x=x\n",
        "        self.y=y\n",
        "\n",
        "class Shape:\n",
        "\n",
        "    sides = 4\n",
        "    def describe(self):\n",
        "        print(\"이 도형은 %d개의 변을 갖고 있습니다.\"%self.sides)\n",
        "    def circumference(self):\n",
        "        pass\n",
        "\n",
        "class Triangle(Shape):\n",
        "    sides = 3\n",
        "\n",
        "    def __init__(self,a,b,c   ):        #인자 넣기\n",
        "        self.point_a=a\n",
        "        self.point_b=b\n",
        "        self.point_c=c\n",
        "    def circumference(self):\n",
        "        return distance(self.point_a  ,self.point_b ) + distance(self.point_b,self.point_c  ) + distance(self.point_c,self.point_a) #함수의 인자를 적절히 넣기\n",
        "\n",
        "class Rectangle(Shape):\n",
        "    side = 4\n",
        "    def __init__(self,a,b,c ,d ):      #인자 넣기\n",
        "        self.point_a=a\n",
        "        self.point_b=b\n",
        "        self.point_c=c\n",
        "        self.point_d=d\n",
        "\n",
        "    def circumference(self):\n",
        "         return distance(self.point_a  ,self.point_b ) + distance(self.point_b,self.point_c  ) + distance(self.point_c,self.point_d)+ distance(self.point_d,self.point_a)\n",
        "\n",
        "\n",
        "shapes = [\n",
        "    Triangle(Coordinate(0, 0), Coordinate(3, 0), Coordinate(3, 4)),\n",
        "    Rectangle(Coordinate(2, 2), Coordinate(6, 2), Coordinate(6, 6), Coordinate(2, 6)),\n",
        "]\n",
        "for shape in shapes:\n",
        "    shape.describe()\n",
        "    print('둘레:', shape.circumference())"
      ],
      "metadata": {
        "colab": {
          "base_uri": "https://localhost:8080/"
        },
        "id": "lL1kScNnw8GX",
        "outputId": "15383128-f1db-41b4-f5bb-aaf24834017e"
      },
      "execution_count": null,
      "outputs": [
        {
          "output_type": "stream",
          "name": "stdout",
          "text": [
            "이 도형은 3개의 변을 갖고 있습니다.\n",
            "둘레: 12.0\n",
            "이 도형은 4개의 변을 갖고 있습니다.\n",
            "둘레: 16.0\n"
          ]
        }
      ]
    },
    {
      "cell_type": "code",
      "source": [
        "#5-10.\n",
        "class Calculator:\n",
        "    def __init__(self):\n",
        "        self.value = 0\n",
        "\n",
        "    def add(self, val):\n",
        "        self.value += val\n",
        "\n",
        "class UpgradeCalculator(Calculator  ):\n",
        "    def minus(self, val):\n",
        "        self.value  -=val    # minus 메서드 완성하기\n",
        "\n",
        "cal = UpgradeCalculator()\n",
        "cal.add(10)\n",
        "cal.minus(7)\n",
        "print(cal.value   )   #결과를 출력하기"
      ],
      "metadata": {
        "colab": {
          "base_uri": "https://localhost:8080/"
        },
        "id": "uOMduaqbxG4t",
        "outputId": "cbdf8091-0d14-4855-825e-1d75fdbf4a63"
      },
      "execution_count": 5,
      "outputs": [
        {
          "output_type": "stream",
          "name": "stdout",
          "text": [
            "3\n"
          ]
        }
      ]
    },
    {
      "cell_type": "code",
      "source": [
        "#5-11.\n",
        "class Calculator:\n",
        "    def __init__(self):\n",
        "        self.value = 0\n",
        "\n",
        "    def add(self, val):\n",
        "        self.value += val\n",
        "\n",
        "class MaxLimitCalculator(Calculator):\n",
        "    def add(self, val):\n",
        "        super().add(val)\n",
        "        if  self.value>=100    :               #Max Limit 설정하 기\n",
        "            self.value = 100\n",
        "\n",
        "cal = MaxLimitCalculator()\n",
        "cal.add(50)  # 50 더하기\n",
        "cal.add(60)  # 60 더하기\n",
        "\n",
        "print(cal.value)  # 100 출력"
      ],
      "metadata": {
        "colab": {
          "base_uri": "https://localhost:8080/"
        },
        "id": "pgxyudK-xMGm",
        "outputId": "cc946064-0efb-4bbf-85a7-a07bba2255be"
      },
      "execution_count": null,
      "outputs": [
        {
          "output_type": "stream",
          "name": "stdout",
          "text": [
            "100\n"
          ]
        }
      ]
    },
    {
      "cell_type": "code",
      "source": [
        "#5-12. 수정 필요\n",
        "class Car:\n",
        "    def __init__(self):\n",
        "        self.max_speed = 160\n",
        "        self.speed = 0\n",
        "\n",
        "    def speed_up(self):\n",
        "        self.speed += 20\n",
        "        if self.spped>=160   :\n",
        "            self.speed = self.max_speed\n",
        "        print(self.speed)\n",
        "\n",
        "    def speed_down(self):\n",
        "        self.speed -= 20\n",
        "        if  self.spped<=0      :\n",
        "            self.speed = 0\n",
        "        print(self.speed)\n",
        "class SportCar(Car):\n",
        "    def __init__(self):\n",
        "        self.max_speed = 200\n",
        "        self.speed = 0\n",
        "\n",
        "    def speed_up(self):\n",
        "        self.speed += 45\n",
        "        if  self.speed>=200      :\n",
        "            self.speed = self.max_speed\n",
        "        print(self.speed)\n",
        "\n",
        "    def speed_down(self):\n",
        "        self.speed -= 45\n",
        "        if   self.speed<=0     :\n",
        "            self.speed = 0\n",
        "        print(self.speed)\n",
        "\n",
        "\n",
        "class Truck:\n",
        "    def __init__(self):\n",
        "        self.max_speed = 100\n",
        "        self.speed = 0\n",
        "\n",
        "    def speed_up(self):\n",
        "        self.speed += 15\n",
        "        if            :\n",
        "            self.speed = self.max_speed\n",
        "        print(self.speed)\n",
        "\n",
        "    def speed_down(self):\n",
        "        self.speed -= 15\n",
        "        if         :\n",
        "            self.speed = 0\n",
        "        print(self.speed)\n"
      ],
      "metadata": {
        "id": "2hdgRkmUziu3"
      },
      "execution_count": null,
      "outputs": []
    }
  ]
}